{
 "cells": [
  {
   "cell_type": "code",
   "execution_count": 2,
   "metadata": {},
   "outputs": [
    {
     "name": "stdout",
     "output_type": "stream",
     "text": [
      "Hi! I am Alex\n"
     ]
    }
   ],
   "source": [
    "# Ques 1. Create a string and print it.\n",
    "\n",
    "x=\"Hi! I am Alex\"\n",
    "print(x)"
   ]
  },
  {
   "cell_type": "code",
   "execution_count": 4,
   "metadata": {},
   "outputs": [
    {
     "name": "stdout",
     "output_type": "stream",
     "text": [
      "6\n"
     ]
    }
   ],
   "source": [
    "# Ques 2. Take a string input and print it's length.\n",
    "\n",
    "str=input(\"Enter any String\")\n",
    "print(len(str))"
   ]
  },
  {
   "cell_type": "code",
   "execution_count": 6,
   "metadata": {},
   "outputs": [
    {
     "name": "stdout",
     "output_type": "stream",
     "text": [
      "great\n"
     ]
    }
   ],
   "source": [
    "# Ques 3. Print the last word of the string `Python is great` using slices.\n",
    "\n",
    "str='Python is great'\n",
    "print(str[10:])"
   ]
  },
  {
   "cell_type": "code",
   "execution_count": 21,
   "metadata": {},
   "outputs": [
    {
     "name": "stdout",
     "output_type": "stream",
     "text": [
      "python\n",
      "is\n",
      "everywhere\n",
      "\n"
     ]
    }
   ],
   "source": [
    "# Ques 4. Print the each word in different line of string `python is everywhere`.\n",
    "\n",
    "str='python\\nis\\neverywhere\\n'\n",
    "print(str[0:])"
   ]
  },
  {
   "cell_type": "code",
   "execution_count": 9,
   "metadata": {},
   "outputs": [
    {
     "name": "stdout",
     "output_type": "stream",
     "text": [
      "dlroW olleH\n"
     ]
    }
   ],
   "source": [
    "# Ques 5. Print the string `Hello World!` in reverse.\n",
    "\n",
    "str2 = \"Hello World\"\n",
    "print(str2[::-1])"
   ]
  },
  {
   "cell_type": "code",
   "execution_count": 10,
   "metadata": {},
   "outputs": [
    {
     "name": "stdout",
     "output_type": "stream",
     "text": [
      "HOW ARE YOU\n"
     ]
    }
   ],
   "source": [
    "# Ques 6. Convert the string `How are you?` in uppercase.\n",
    "\n",
    "str = 'How are you'\n",
    "print(str.upper())"
   ]
  },
  {
   "cell_type": "code",
   "execution_count": 11,
   "metadata": {},
   "outputs": [
    {
     "name": "stdout",
     "output_type": "stream",
     "text": [
      "how is it going\n"
     ]
    }
   ],
   "source": [
    "# Ques 7. Convert the string `How Is It Going?` in lowercase.\n",
    "\n",
    "str = 'How Is It Going'\n",
    "print(str.lower())"
   ]
  },
  {
   "cell_type": "code",
   "execution_count": 15,
   "metadata": {},
   "outputs": [
    {
     "name": "stdout",
     "output_type": "stream",
     "text": [
      "Python is easy to learn "
     ]
    }
   ],
   "source": [
    "# Ques 8. Join the following list by spaces(` `) and print the result.\n",
    "'''         words = ['Python', 'is', 'easy', 'to', 'learn']         '''\n",
    "\n",
    "words = ['Python', 'is', 'easy', 'to', 'learn']\n",
    "for i in range(0,len(words)):\n",
    "    print(words[i],end=' ')\n"
   ]
  },
  {
   "cell_type": "code",
   "execution_count": 15,
   "metadata": {},
   "outputs": [
    {
     "name": "stdout",
     "output_type": "stream",
     "text": [
      "\n",
      "      \n",
      "\\-+-+-+-+-+-+-+-+-+-+-+/\n",
      "|                      |\n",
      "|                      |\n",
      "|    Hi, I'm Alice!    |  \n",
      "|                      |\n",
      "|                      |\n",
      "\\-+-+-+-+-+-+-+-+-+-+-+/\n",
      "\n",
      "\n"
     ]
    }
   ],
   "source": [
    "# Ques 9. Print a multiline string using a single `print`\n",
    "\n",
    "print('''\n",
    "      \n",
    "\\-+-+-+-+-+-+-+-+-+-+-+/\n",
    "|                      |\n",
    "|                      |\n",
    "|    Hi, I'm Alice!    |  \n",
    "|                      |\n",
    "|                      |\n",
    "\\-+-+-+-+-+-+-+-+-+-+-+/\n",
    "\n",
    "''')"
   ]
  },
  {
   "cell_type": "code",
   "execution_count": 10,
   "metadata": {},
   "outputs": [
    {
     "data": {
      "text/plain": [
       "'python is great.'"
      ]
     },
     "execution_count": 10,
     "metadata": {},
     "output_type": "execute_result"
    }
   ],
   "source": [
    "''' Ques 10. concatenate the following strings and print the result\n",
    "    s1 = 'python '\n",
    "    s2 = 'is '\n",
    "    s3 = 'great.'   '''\n",
    "\n",
    "sentence = ['python', 'is', 'great.']\n",
    "' '.join(sentence)"
   ]
  }
 ],
 "metadata": {
  "kernelspec": {
   "display_name": "base",
   "language": "python",
   "name": "python3"
  },
  "language_info": {
   "codemirror_mode": {
    "name": "ipython",
    "version": 3
   },
   "file_extension": ".py",
   "mimetype": "text/x-python",
   "name": "python",
   "nbconvert_exporter": "python",
   "pygments_lexer": "ipython3",
   "version": "3.10.10"
  },
  "orig_nbformat": 4
 },
 "nbformat": 4,
 "nbformat_minor": 2
}
