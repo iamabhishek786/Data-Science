{
 "cells": [
  {
   "attachments": {},
   "cell_type": "markdown",
   "metadata": {},
   "source": [
    "# list\n",
    "    - indexed\n",
    "    - ordered\n",
    "    - heterogenous\n",
    "    - duplicate elements can be stored\n",
    "    - mutable\n",
    "    - any type of elements can be stored\n",
    "    - represented by '[ ]'\n",
    "    - 'list()' method is used to convert any type to list\n",
    "\n",
    "# creating list\n",
    "# accessing elements from list\n",
    "# slicing of list\n",
    "# methods in list\n",
    "    -adding elements\n",
    "        -append()\n",
    "        -insert()\n",
    "        -extend()\n",
    "    -removing elements\n",
    "        -pop()\n",
    "        -remove()\n",
    "        -clear()\n",
    "    -utility\n",
    "        -index()\n",
    "        -count()\n",
    "        -sort()\n",
    "        -reverse()\n",
    "        -copy()"
   ]
  },
  {
   "cell_type": "code",
   "execution_count": 2,
   "metadata": {},
   "outputs": [],
   "source": [
    "x = [1,2,3,4,5,6,7,8,9,10]\n",
    "y = [] # empty list\n",
    "z = ['apple','banana','cherry','orange','kiwi','melon','mango']\n",
    "a = ['alex', 5, 'sam', 7, 'john', 10, 'james', 15]\n",
    "a3 = [ [1,2,3], \n",
    "       [4,5,6], \n",
    "       [7,8,9]]"
   ]
  },
  {
   "cell_type": "code",
   "execution_count": 53,
   "metadata": {},
   "outputs": [],
   "source": [
    "class Movie:\n",
    "    def __init__(self, name, year):\n",
    "        self.name = name\n",
    "        self.year = year\n",
    "\n",
    "movies = [\n",
    "    Movie(\"The Matrix\", 1999),\n",
    "    Movie(\"The Matrix Reloaded\", 2003),\n",
    "    Movie(\"The Matrix Revolutions\", 2007),\n",
    "    Movie(\"The Matrix Resurrection\", 2021)\n",
    "]"
   ]
  },
  {
   "cell_type": "code",
   "execution_count": 5,
   "metadata": {},
   "outputs": [
    {
     "data": {
      "text/plain": [
       "['A', 'b', 'h', 'i', 's', 'h', 'e', 'k', ' ', 'A', 'r', 'u', 'n']"
      ]
     },
     "execution_count": 5,
     "metadata": {},
     "output_type": "execute_result"
    }
   ],
   "source": [
    "name = 'Abhishek Arun'\n",
    "list(name)  # converts any iterable to list"
   ]
  },
  {
   "cell_type": "code",
   "execution_count": 6,
   "metadata": {},
   "outputs": [
    {
     "name": "stdout",
     "output_type": "stream",
     "text": [
      "[1, 2, 3, 4, 5, 6, 7, 8, 9, 10, 11, 12, 13, 14, 15, 16, 17, 18, 19, 20, 21, 22, 23, 24, 25, 26, 27, 28, 29, 30, 31, 32, 33, 34, 35, 36, 37, 38, 39, 40, 41, 42, 43, 44, 45, 46, 47, 48, 49, 50, 51, 52, 53, 54, 55, 56, 57, 58, 59, 60, 61, 62, 63, 64, 65, 66, 67, 68, 69, 70, 71, 72, 73, 74, 75, 76, 77, 78, 79, 80, 81, 82, 83, 84, 85, 86, 87, 88, 89, 90, 91, 92, 93, 94, 95, 96, 97, 98, 99, 100]\n"
     ]
    }
   ],
   "source": [
    "print(list(range(1,101)))"
   ]
  },
  {
   "cell_type": "code",
   "execution_count": 7,
   "metadata": {},
   "outputs": [
    {
     "name": "stdout",
     "output_type": "stream",
     "text": [
      "alex\n",
      "15\n",
      "james\n",
      "5\n"
     ]
    }
   ],
   "source": [
    "print(a[0])\n",
    "print(a[-1])\n",
    "print(a[-2])\n",
    "print(a[1])\n",
    "# print(a[49])  // error"
   ]
  },
  {
   "cell_type": "code",
   "execution_count": 8,
   "metadata": {},
   "outputs": [
    {
     "name": "stdout",
     "output_type": "stream",
     "text": [
      "[1, 2, 3, 4, 5, 6, 7, 8, 9, 10]\n",
      "[11, 12, 13, 14, 15, 16, 17, 18, 19, 20]\n",
      "[91, 92, 93, 94, 95, 96, 97, 98, 99, 100]\n",
      "[24, 25, 26, 27, 28, 29, 30, 31, 32, 33, 34, 35, 36]\n",
      "[51, 50, 49, 48, 47, 46, 45, 44, 43, 42, 41, 40, 39, 38, 37, 36, 35, 34, 33, 32]\n",
      "[2, 4, 6, 8, 10, 12, 14, 16, 18, 20, 22, 24, 26, 28, 30, 32, 34, 36, 38, 40, 42, 44, 46, 48, 50, 52, 54, 56, 58, 60, 62, 64, 66, 68, 70, 72, 74, 76, 78, 80, 82, 84, 86, 88, 90, 92, 94, 96, 98, 100]\n",
      "[100, 99, 98, 97, 96, 95, 94, 93, 92, 91, 90, 89, 88, 87, 86, 85, 84, 83, 82, 81, 80, 79, 78, 77, 76, 75, 74, 73, 72, 71, 70, 69, 68, 67, 66, 65, 64, 63, 62, 61, 60, 59, 58, 57, 56, 55, 54, 53, 52, 51, 50, 49, 48, 47, 46, 45, 44, 43, 42, 41, 40, 39, 38, 37, 36, 35, 34, 33, 32, 31, 30, 29, 28, 27, 26, 25, 24, 23, 22, 21, 20, 19, 18, 17, 16, 15, 14, 13, 12, 11, 10, 9, 8, 7, 6, 5, 4, 3, 2, 1]\n"
     ]
    }
   ],
   "source": [
    "# Slicing\n",
    "data = list(range(1, 101))\n",
    "print(data[:10])\n",
    "print(data[10:20])\n",
    "print(data[-10:]) #last 10 elements\n",
    "print(data[23: 36])\n",
    "print(data[50:30:-1]) # reverse slice\n",
    "print(data[1::2]) # odd numbers\n",
    "print(data[::-1]) # reverse list"
   ]
  },
  {
   "cell_type": "code",
   "execution_count": 11,
   "metadata": {},
   "outputs": [
    {
     "name": "stdout",
     "output_type": "stream",
     "text": [
      "alex\n",
      "5\n",
      "sam\n",
      "7\n",
      "john\n",
      "10\n",
      "james\n",
      "15\n"
     ]
    }
   ],
   "source": [
    "for item in a:\n",
    "    print(item)"
   ]
  },
  {
   "cell_type": "code",
   "execution_count": 19,
   "metadata": {},
   "outputs": [],
   "source": [
    "movies = []\n",
    "movies.append('Shrek')"
   ]
  },
  {
   "cell_type": "code",
   "execution_count": 20,
   "metadata": {},
   "outputs": [],
   "source": [
    "uinp = input('enter a movie')\n",
    "movies.append(uinp)"
   ]
  },
  {
   "cell_type": "code",
   "execution_count": 21,
   "metadata": {},
   "outputs": [
    {
     "data": {
      "text/plain": [
       "['Shrek',\n",
       " 'inception',\n",
       " 'The Matrix',\n",
       " 'The Matrix Reloaded ',\n",
       " 'The Matrix revolutions',\n",
       " 'The Matrix resurrection',\n",
       " 'Fast & Furious',\n",
       " 'Fast & Furious 2',\n",
       " 'Fast & Furious 3',\n",
       " 'Fast & Furious 4']"
      ]
     },
     "execution_count": 21,
     "metadata": {},
     "output_type": "execute_result"
    }
   ],
   "source": [
    "movies.append('The Matrix')\n",
    "movies.append('The Matrix Reloaded ')\n",
    "movies.append('The Matrix revolutions')\n",
    "movies.append('The Matrix resurrection')\n",
    "movies.append('Fast & Furious')\n",
    "movies.append('Fast & Furious 2')\n",
    "movies.append('Fast & Furious 3')\n",
    "movies.append('Fast & Furious 4')\n",
    "movies"
   ]
  },
  {
   "cell_type": "code",
   "execution_count": 23,
   "metadata": {},
   "outputs": [
    {
     "data": {
      "text/plain": [
       "['Shrek',\n",
       " 'inception',\n",
       " 'Kung Fu Panda',\n",
       " 'The Matrix Reloaded ',\n",
       " 'The Matrix revolutions',\n",
       " 'The Matrix resurrection',\n",
       " 'Fast & Furious',\n",
       " 'Fast & Furious 2',\n",
       " 'Fast & Furious 3',\n",
       " 'Fast & Furious 4']"
      ]
     },
     "execution_count": 23,
     "metadata": {},
     "output_type": "execute_result"
    }
   ],
   "source": [
    "movies[2] = 'Kung Fu Panda'  # upodate\n",
    "movies"
   ]
  },
  {
   "cell_type": "code",
   "execution_count": 27,
   "metadata": {},
   "outputs": [
    {
     "data": {
      "text/plain": [
       "['Shrek',\n",
       " 'inception',\n",
       " 'Kung Fu Panda',\n",
       " 'Kung Fu Panda 2',\n",
       " 'The Matrix Reloaded ',\n",
       " 'The Matrix revolutions',\n",
       " 'The Matrix resurrection',\n",
       " 'Fast & Furious',\n",
       " 'Fast & Furious 2',\n",
       " 'Fast & Furious 3']"
      ]
     },
     "execution_count": 27,
     "metadata": {},
     "output_type": "execute_result"
    }
   ],
   "source": [
    "movies.insert(3, 'Kung Fu Panda 2') # insert\n",
    "movies"
   ]
  },
  {
   "cell_type": "code",
   "execution_count": 22,
   "metadata": {},
   "outputs": [
    {
     "name": "stdout",
     "output_type": "stream",
     "text": [
      "['naruto']\n",
      "['naruto', 'dragon ball z']\n",
      "['naruto', 'dragon ball z', 'one punch man']\n",
      "['naruto', 'dragon ball z', 'one punch man', 'demon slayer']\n",
      "['naruto', 'dragon ball z', 'one punch man', 'demon slayer', '']\n"
     ]
    }
   ],
   "source": [
    "# user created list\n",
    "animelist = []\n",
    "for i in range(5):\n",
    "    name = input('enter an anime')\n",
    "    animelist.append(name)\n",
    "    print(animelist)"
   ]
  },
  {
   "cell_type": "code",
   "execution_count": 24,
   "metadata": {},
   "outputs": [
    {
     "data": {
      "text/plain": [
       "[1, 2, 3, 4, 5, 6, 7, 8]"
      ]
     },
     "execution_count": 24,
     "metadata": {},
     "output_type": "execute_result"
    }
   ],
   "source": [
    "x = [1,2,3,4]\n",
    "y = [5,6,7,8]\n",
    "\n",
    "x + y       #creates a list"
   ]
  },
  {
   "cell_type": "code",
   "execution_count": 25,
   "metadata": {},
   "outputs": [
    {
     "name": "stdout",
     "output_type": "stream",
     "text": [
      "[1, 2, 3, 4, 5, 6, 7, 8]\n"
     ]
    }
   ],
   "source": [
    "x.extend(y) # modifies x but nothing happens to y\n",
    "print(x)"
   ]
  },
  {
   "cell_type": "code",
   "execution_count": null,
   "metadata": {},
   "outputs": [],
   "source": [
    "movies.remove('Fast & Furious 2')   # the first occurence will be removed"
   ]
  },
  {
   "cell_type": "code",
   "execution_count": 26,
   "metadata": {},
   "outputs": [
    {
     "data": {
      "text/plain": [
       "'Fast & Furious 4'"
      ]
     },
     "execution_count": 26,
     "metadata": {},
     "output_type": "execute_result"
    }
   ],
   "source": [
    "movies.pop()    # removes the last element"
   ]
  },
  {
   "cell_type": "code",
   "execution_count": 28,
   "metadata": {},
   "outputs": [
    {
     "data": {
      "text/plain": [
       "['Shrek',\n",
       " 'inception',\n",
       " 'Kung Fu Panda',\n",
       " 'Kung Fu Panda 2',\n",
       " 'The Matrix Reloaded ',\n",
       " 'The Matrix resurrection',\n",
       " 'Fast & Furious',\n",
       " 'Fast & Furious 2',\n",
       " 'Fast & Furious 3']"
      ]
     },
     "execution_count": 28,
     "metadata": {},
     "output_type": "execute_result"
    }
   ],
   "source": [
    "movies.pop(5)  # removes the 5th index element\n",
    "movies"
   ]
  },
  {
   "cell_type": "code",
   "execution_count": 32,
   "metadata": {},
   "outputs": [
    {
     "name": "stdout",
     "output_type": "stream",
     "text": [
      "value not found\n"
     ]
    },
    {
     "data": {
      "text/plain": [
       "['Shrek',\n",
       " 'Kung Fu Panda',\n",
       " 'Kung Fu Panda 2',\n",
       " 'The Matrix Reloaded ',\n",
       " 'The Matrix resurrection',\n",
       " 'Fast & Furious',\n",
       " 'Fast & Furious 2',\n",
       " 'Fast & Furious 3']"
      ]
     },
     "execution_count": 32,
     "metadata": {},
     "output_type": "execute_result"
    }
   ],
   "source": [
    "value = 'inception'\n",
    "if value in movies:\n",
    "    movies.remove(value)\n",
    "else:\n",
    "    print('value not found')\n",
    "movies"
   ]
  },
  {
   "cell_type": "code",
   "execution_count": 33,
   "metadata": {},
   "outputs": [
    {
     "data": {
      "text/plain": [
       "[]"
      ]
     },
     "execution_count": 33,
     "metadata": {},
     "output_type": "execute_result"
    }
   ],
   "source": [
    "movies.clear()  # removes all elements but the existence of the list remains\n",
    "movies"
   ]
  },
  {
   "cell_type": "code",
   "execution_count": 34,
   "metadata": {},
   "outputs": [],
   "source": [
    "del a # deletes the variable from memory, can be checked from 'variables' section"
   ]
  },
  {
   "cell_type": "code",
   "execution_count": 35,
   "metadata": {},
   "outputs": [],
   "source": [
    "books = ['a','b','c','d','e','f','g','h','i','j']       # name of the books can be actually 2,3words, here taken only alphabets for easy understanding"
   ]
  },
  {
   "cell_type": "code",
   "execution_count": 38,
   "metadata": {},
   "outputs": [
    {
     "data": {
      "text/plain": [
       "4"
      ]
     },
     "execution_count": 38,
     "metadata": {},
     "output_type": "execute_result"
    }
   ],
   "source": [
    "books.index('e')      # elements are case-senstitive which means to be searched in the same order\n",
    "#books.index('E')  // error"
   ]
  },
  {
   "cell_type": "code",
   "execution_count": 43,
   "metadata": {},
   "outputs": [
    {
     "name": "stdout",
     "output_type": "stream",
     "text": [
      "2\n",
      "2\n",
      "3\n",
      "0\n"
     ]
    }
   ],
   "source": [
    "x = [12,43,56,7,8,9,54,3,1,2,3,2,34,5,6,6,7,3,2,23,12,8,7,5]\n",
    "print(x.count(6))\n",
    "print(x.count(12))\n",
    "print(x.count(3))\n",
    "print(x.count(10))\n"
   ]
  },
  {
   "cell_type": "code",
   "execution_count": 44,
   "metadata": {},
   "outputs": [
    {
     "name": "stdout",
     "output_type": "stream",
     "text": [
      "['j', 'i', 'h', 'g', 'f', 'e', 'd', 'c', 'b', 'a']\n"
     ]
    }
   ],
   "source": [
    "books.reverse()\n",
    "print(books)"
   ]
  },
  {
   "cell_type": "code",
   "execution_count": 45,
   "metadata": {},
   "outputs": [
    {
     "name": "stdout",
     "output_type": "stream",
     "text": [
      "['a', 'b', 'c', 'd', 'e', 'f', 'g', 'h', 'i', 'j']\n"
     ]
    }
   ],
   "source": [
    "books.sort()    # sorts data in ascending order if all the elements are of same type\n",
    "print(books)"
   ]
  },
  {
   "cell_type": "code",
   "execution_count": 47,
   "metadata": {},
   "outputs": [],
   "source": [
    "books_backup = books.copy()  # a copy of variable is created at a different memory location"
   ]
  },
  {
   "cell_type": "code",
   "execution_count": 48,
   "metadata": {},
   "outputs": [],
   "source": [
    "books2 = books # both variable point to the same memory location, it is not used as a copy or backup for elements"
   ]
  },
  {
   "cell_type": "code",
   "execution_count": 49,
   "metadata": {},
   "outputs": [
    {
     "name": "stdout",
     "output_type": "stream",
     "text": [
      "['a', 'b', 'c', 'd', 'e', 'f', 'g', 'h', 'i', 'j', 'The Alloy of Law']\n",
      "['a', 'b', 'c', 'd', 'e', 'f', 'g', 'h', 'i', 'j', 'The Alloy of Law']\n",
      "['a', 'b', 'c', 'd', 'e', 'f', 'g', 'h', 'i', 'j']\n"
     ]
    }
   ],
   "source": [
    "books.append('The Alloy of Law')\n",
    "print(books)\n",
    "print(books2)\n",
    "print(books_backup)"
   ]
  },
  {
   "cell_type": "code",
   "execution_count": 50,
   "metadata": {},
   "outputs": [
    {
     "data": {
      "text/plain": [
       "True"
      ]
     },
     "execution_count": 50,
     "metadata": {},
     "output_type": "execute_result"
    }
   ],
   "source": [
    "books2 is books        # we are checking whether they are at the same memory address or not"
   ]
  },
  {
   "cell_type": "code",
   "execution_count": 51,
   "metadata": {},
   "outputs": [
    {
     "data": {
      "text/plain": [
       "False"
      ]
     },
     "execution_count": 51,
     "metadata": {},
     "output_type": "execute_result"
    }
   ],
   "source": [
    "books_backup is books"
   ]
  }
 ],
 "metadata": {
  "kernelspec": {
   "display_name": "base",
   "language": "python",
   "name": "python3"
  },
  "language_info": {
   "codemirror_mode": {
    "name": "ipython",
    "version": 3
   },
   "file_extension": ".py",
   "mimetype": "text/x-python",
   "name": "python",
   "nbconvert_exporter": "python",
   "pygments_lexer": "ipython3",
   "version": "3.10.10"
  },
  "orig_nbformat": 4
 },
 "nbformat": 4,
 "nbformat_minor": 2
}
