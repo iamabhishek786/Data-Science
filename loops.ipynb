{
 "cells": [
  {
   "cell_type": "code",
   "execution_count": 1,
   "metadata": {},
   "outputs": [
    {
     "name": "stdout",
     "output_type": "stream",
     "text": [
      "apple\n",
      "lichi\n",
      "guava\n",
      "cherry\n",
      "orange\n",
      "kiwi\n",
      "mango\n"
     ]
    }
   ],
   "source": [
    "fruits= ['apple','lichi','guava','cherry','orange','kiwi','mango']\n",
    "for fruit in fruits:\n",
    "    print(fruit)"
   ]
  },
  {
   "cell_type": "code",
   "execution_count": 4,
   "metadata": {},
   "outputs": [
    {
     "name": "stdout",
     "output_type": "stream",
     "text": [
      "(0, 'apple')\n",
      "(1, 'lichi')\n",
      "(2, 'guava')\n",
      "(3, 'cherry')\n",
      "(4, 'orange')\n",
      "(5, 'kiwi')\n",
      "(6, 'mango')\n"
     ]
    }
   ],
   "source": [
    "# using enumerate\n",
    "for item in enumerate(fruits):\n",
    "    print(item)"
   ]
  },
  {
   "cell_type": "code",
   "execution_count": 6,
   "metadata": {},
   "outputs": [
    {
     "name": "stdout",
     "output_type": "stream",
     "text": [
      "0 apple\n",
      "1 lichi\n",
      "2 guava\n",
      "3 cherry\n",
      "4 orange\n",
      "5 kiwi\n",
      "6 mango\n"
     ]
    }
   ],
   "source": [
    "# Without using enumerate (but it is'nt used)\n",
    "count=0\n",
    "for fruit in fruits:\n",
    "    print(count, fruit)\n",
    "    count+=1"
   ]
  },
  {
   "cell_type": "code",
   "execution_count": 8,
   "metadata": {},
   "outputs": [
    {
     "name": "stdout",
     "output_type": "stream",
     "text": [
      "0 => apple\n",
      "1 => lichi\n",
      "2 => guava\n",
      "3 => cherry\n",
      "4 => orange\n",
      "5 => kiwi\n",
      "6 => mango\n"
     ]
    }
   ],
   "source": [
    "for idx,val in enumerate(fruits):\n",
    "    print(f'{idx} => {val}')"
   ]
  },
  {
   "cell_type": "code",
   "execution_count": 10,
   "metadata": {},
   "outputs": [
    {
     "name": "stdout",
     "output_type": "stream",
     "text": [
      "apple\n",
      "guava\n",
      "orange\n",
      "mango\n"
     ]
    }
   ],
   "source": [
    "for idx,val in enumerate(fruits):\n",
    "    if idx%2 == 0:\n",
    "        print(val)\n"
   ]
  },
  {
   "cell_type": "code",
   "execution_count": 13,
   "metadata": {},
   "outputs": [
    {
     "name": "stdout",
     "output_type": "stream",
     "text": [
      "apple\n",
      "lichi\n",
      "guava\n"
     ]
    }
   ],
   "source": [
    "for idx,val in enumerate(fruits):\n",
    "    if idx == 3:\n",
    "        break\n",
    "    print(val)\n"
   ]
  },
  {
   "cell_type": "code",
   "execution_count": 15,
   "metadata": {},
   "outputs": [
    {
     "name": "stdout",
     "output_type": "stream",
     "text": [
      "1 5 9\n",
      "2 6 10\n",
      "3 7 11\n",
      "4 8 12\n"
     ]
    }
   ],
   "source": [
    "# use of zip()\n",
    "x=[1,2,3,4]\n",
    "y=[5,6,7,8]\n",
    "z=[9,10,11,12]\n",
    "\n",
    "for i,j,k in zip(x,y,z):\n",
    "    print(i,j,k)"
   ]
  },
  {
   "cell_type": "code",
   "execution_count": 16,
   "metadata": {},
   "outputs": [
    {
     "name": "stdout",
     "output_type": "stream",
     "text": [
      "15\n",
      "18\n",
      "21\n",
      "24\n"
     ]
    }
   ],
   "source": [
    "x=[1,2,3,4]\n",
    "y=[5,6,7,8]\n",
    "z=[9,10,11,12]\n",
    "\n",
    "for i,j,k in zip(x,y,z):\n",
    "    print(i+j+k)"
   ]
  },
  {
   "cell_type": "code",
   "execution_count": 17,
   "metadata": {},
   "outputs": [
    {
     "name": "stdout",
     "output_type": "stream",
     "text": [
      "15 18 21 24 "
     ]
    }
   ],
   "source": [
    "x=[1,2,3,4]\n",
    "y=[5,6,7,8]\n",
    "z=[9,10,11,12]\n",
    "\n",
    "for i,j,k in zip(x,y,z):\n",
    "    print(i+j+k, end=' ')"
   ]
  },
  {
   "cell_type": "code",
   "execution_count": 18,
   "metadata": {},
   "outputs": [
    {
     "name": "stdout",
     "output_type": "stream",
     "text": [
      "1\n",
      "2\n",
      "3\n",
      "4\n",
      "loop completed\n"
     ]
    }
   ],
   "source": [
    "for i in x:\n",
    "    print(i)\n",
    "else:\n",
    "    print('loop completed')"
   ]
  },
  {
   "cell_type": "code",
   "execution_count": 19,
   "metadata": {},
   "outputs": [
    {
     "name": "stdout",
     "output_type": "stream",
     "text": [
      "1\n",
      "2\n"
     ]
    }
   ],
   "source": [
    "for i in x:\n",
    "    if i==3:\n",
    "        break\n",
    "    print(i)\n",
    "else:\n",
    "    print('loop completed')"
   ]
  },
  {
   "cell_type": "code",
   "execution_count": 22,
   "metadata": {},
   "outputs": [
    {
     "name": "stdout",
     "output_type": "stream",
     "text": [
      "prime\n"
     ]
    }
   ],
   "source": [
    "x=17\n",
    "for i in range(2,x):\n",
    "    if x%i ==0:\n",
    "        print('not prime')\n",
    "        break\n",
    "else:\n",
    "    print('prime')    "
   ]
  },
  {
   "cell_type": "code",
   "execution_count": 23,
   "metadata": {},
   "outputs": [
    {
     "name": "stdout",
     "output_type": "stream",
     "text": [
      "you entered 2\n",
      "you entered 4\n",
      "you entered 5\n",
      "you entered 6\n",
      "you entered 8\n",
      "you entered 15\n"
     ]
    }
   ],
   "source": [
    "# while loop\n",
    "x=0\n",
    "while x < 10:\n",
    "    x = int(input('Enter a value for x:'))\n",
    "    print(f'you entered {x}')"
   ]
  },
  {
   "cell_type": "code",
   "execution_count": 24,
   "metadata": {},
   "outputs": [
    {
     "name": "stdout",
     "output_type": "stream",
     "text": [
      "34 + 66 = 100\n",
      "27 + 43 = 70\n"
     ]
    }
   ],
   "source": [
    "while True:\n",
    "    a= int(input('Enter value of a:'))\n",
    "    b= int(input('Enter value of b:'))\n",
    "    total = a + b\n",
    "    print(f'{a} + {b} = {total}')\n",
    "    if input('do you want to continue y/n') =='n':\n",
    "        break"
   ]
  },
  {
   "cell_type": "code",
   "execution_count": 25,
   "metadata": {},
   "outputs": [
    {
     "name": "stdout",
     "output_type": "stream",
     "text": [
      "Once upon a time there was a cat\n",
      "that looked like a cat but was brave enough like lion\n",
      "which went on to take over the jungle\n",
      "\n"
     ]
    }
   ],
   "source": [
    "story=''\n",
    "while True:\n",
    "    line= input('Enter a line:')\n",
    "    if line:\n",
    "        story += line + '\\n'\n",
    "    else:\n",
    "        break\n",
    "print(story)    "
   ]
  }
 ],
 "metadata": {
  "kernelspec": {
   "display_name": "base",
   "language": "python",
   "name": "python3"
  },
  "language_info": {
   "codemirror_mode": {
    "name": "ipython",
    "version": 3
   },
   "file_extension": ".py",
   "mimetype": "text/x-python",
   "name": "python",
   "nbconvert_exporter": "python",
   "pygments_lexer": "ipython3",
   "version": "3.10.10"
  },
  "orig_nbformat": 4
 },
 "nbformat": 4,
 "nbformat_minor": 2
}
