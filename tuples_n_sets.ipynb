{
 "cells": [
  {
   "attachments": {},
   "cell_type": "markdown",
   "metadata": {},
   "source": [
    "- ### tuple\n",
    "    - python default sequential data structure\n",
    "    - indexed, ordered, heterogenous\n",
    "    - 'immutable'\n",
    "    - represented by '()'\n",
    "    - 'tuple' is faster than 'list'\n",
    "    - 'tuple()' converts any sequence to tuple\n",
    "\n",
    "- ### set\n",
    "    - unordered, unindexed, mutable\n",
    "    - unique elements only\n",
    "    - can store only immutable elements\n",
    "    - represented by {}\n",
    "    - set() converts any sequence to set"
   ]
  },
  {
   "cell_type": "code",
   "execution_count": 2,
   "metadata": {},
   "outputs": [
    {
     "name": "stdout",
     "output_type": "stream",
     "text": [
      "(1, 2, 3)\n",
      "<class 'tuple'>\n"
     ]
    }
   ],
   "source": [
    "x = (1,2,3)\n",
    "print(x)\n",
    "print(type(x))"
   ]
  },
  {
   "cell_type": "code",
   "execution_count": 4,
   "metadata": {},
   "outputs": [
    {
     "name": "stdout",
     "output_type": "stream",
     "text": [
      "(12, 13, 50)\n",
      "<class 'tuple'>\n"
     ]
    }
   ],
   "source": [
    "a= 12, 13, 50   # also called [tuple packing] by default it will create tuple\n",
    "print(a)\n",
    "print(type(a))"
   ]
  },
  {
   "cell_type": "code",
   "execution_count": 5,
   "metadata": {},
   "outputs": [
    {
     "name": "stdout",
     "output_type": "stream",
     "text": [
      "(13,)\n",
      "<class 'tuple'>\n"
     ]
    }
   ],
   "source": [
    "#single element tuple\n",
    "b= (13,)\n",
    "print(b)\n",
    "print(type(b))"
   ]
  },
  {
   "cell_type": "code",
   "execution_count": 6,
   "metadata": {},
   "outputs": [
    {
     "name": "stdout",
     "output_type": "stream",
     "text": [
      "12 13 50\n"
     ]
    }
   ],
   "source": [
    "#tuple unpacking\n",
    "x1, x2, x3 = a  # a has 3 elements\n",
    "print(x1,x2,x3)"
   ]
  },
  {
   "cell_type": "code",
   "execution_count": 8,
   "metadata": {},
   "outputs": [
    {
     "name": "stdout",
     "output_type": "stream",
     "text": [
      "1 3 [5, 6, 7, 12, 14, 16, 17]\n"
     ]
    }
   ],
   "source": [
    "#tuple unpacking\n",
    "a = (1,3,5,6,7,12,14,16,17)\n",
    "a1, a2, *a3 = a     #a3 will get the remaining elements as a list\n",
    "# a1, *a2, a3 = a\n",
    "# *a1, a2, a3 = a\n",
    "print(a1,a2,a3)"
   ]
  },
  {
   "cell_type": "code",
   "execution_count": 12,
   "metadata": {},
   "outputs": [
    {
     "name": "stdout",
     "output_type": "stream",
     "text": [
      "(1, 3, 5, 6)\n",
      "(7, 12, 14, 16, 17)\n"
     ]
    }
   ],
   "source": [
    "#slicing\n",
    "print(a[:4])  \n",
    "print(a[-5:])  "
   ]
  },
  {
   "cell_type": "code",
   "execution_count": 11,
   "metadata": {},
   "outputs": [
    {
     "name": "stdout",
     "output_type": "stream",
     "text": [
      "1\n",
      "3\n",
      "5\n",
      "6\n",
      "7\n",
      "12\n",
      "14\n",
      "16\n",
      "17\n"
     ]
    }
   ],
   "source": [
    "for i in a:\n",
    "    print(i)"
   ]
  },
  {
   "cell_type": "code",
   "execution_count": 17,
   "metadata": {},
   "outputs": [
    {
     "name": "stdout",
     "output_type": "stream",
     "text": [
      "4\n",
      "3\n",
      "0\n",
      "2\n",
      "7\n"
     ]
    }
   ],
   "source": [
    "x = (1,2,3,1,3,1,2,3,1,2,3)\n",
    "print(x.count(1))\n",
    "print(x.count(2))\n",
    "print(x.count(5))\n",
    "print(x.index(3))   #3 is the value to search\n",
    "print(x.index(3,5)) #3 is the value to search and 5 is the starting index"
   ]
  },
  {
   "cell_type": "code",
   "execution_count": 19,
   "metadata": {},
   "outputs": [
    {
     "name": "stdout",
     "output_type": "stream",
     "text": [
      "(1, 2, 3)\n",
      "[1, 2, 3]\n"
     ]
    }
   ],
   "source": [
    "a = [1,2,3]\n",
    "at = tuple(a)   #list to tuple\n",
    "al = list(at)   #tuple to list\n",
    "print(at)\n",
    "print(al)"
   ]
  },
  {
   "attachments": {},
   "cell_type": "markdown",
   "metadata": {},
   "source": [
    "### set"
   ]
  },
  {
   "cell_type": "code",
   "execution_count": 20,
   "metadata": {},
   "outputs": [
    {
     "name": "stdout",
     "output_type": "stream",
     "text": [
      "{1, 2, 3}\n",
      "<class 'set'>\n"
     ]
    }
   ],
   "source": [
    "s = {1,2,3,1,2,3,1,2,3}\n",
    "print(s)\n",
    "print(type(s))"
   ]
  },
  {
   "cell_type": "code",
   "execution_count": 21,
   "metadata": {},
   "outputs": [
    {
     "name": "stdout",
     "output_type": "stream",
     "text": [
      "set()\n",
      "<class 'set'>\n"
     ]
    }
   ],
   "source": [
    "s1 = set()  # Empty set\n",
    "print(s1)\n",
    "print(type(s1))"
   ]
  },
  {
   "cell_type": "code",
   "execution_count": 22,
   "metadata": {},
   "outputs": [
    {
     "name": "stdout",
     "output_type": "stream",
     "text": [
      "{'all', 3, 4, 'hello'}\n"
     ]
    }
   ],
   "source": [
    "s1.add(3)\n",
    "s1.add(4)\n",
    "s1.add('hello')\n",
    "s1.add('all')\n",
    "s1.add(3)\n",
    "print(s1)"
   ]
  },
  {
   "cell_type": "code",
   "execution_count": 23,
   "metadata": {},
   "outputs": [
    {
     "name": "stdout",
     "output_type": "stream",
     "text": [
      "{'all', 4, 'hello'}\n"
     ]
    }
   ],
   "source": [
    "s1.discard(3)   #remove 3 from set 's1' (remove() can also be used)\n",
    "print(s1)"
   ]
  },
  {
   "cell_type": "code",
   "execution_count": 25,
   "metadata": {},
   "outputs": [
    {
     "name": "stdout",
     "output_type": "stream",
     "text": [
      "all\n",
      "4\n",
      "hello\n"
     ]
    }
   ],
   "source": [
    "for i in s1:\n",
    "    print(i)"
   ]
  },
  {
   "cell_type": "code",
   "execution_count": 26,
   "metadata": {},
   "outputs": [
    {
     "name": "stdout",
     "output_type": "stream",
     "text": [
      "{'h', 'n', 'a', 's', ' ', 'k', 'i', 'b', 'u', 'r', 'e'}\n"
     ]
    }
   ],
   "source": [
    "name = set('abhishek arun')\n",
    "print(name)     # Proof of set being unordered"
   ]
  },
  {
   "cell_type": "code",
   "execution_count": 27,
   "metadata": {},
   "outputs": [
    {
     "name": "stdout",
     "output_type": "stream",
     "text": [
      "['a', 'b', 'h', 'i', 's', 'h', 'e', 'k', ' ', 'a', 'r', 'u', 'n']\n"
     ]
    }
   ],
   "source": [
    "name = list('abhishek arun')\n",
    "print(name)"
   ]
  },
  {
   "cell_type": "code",
   "execution_count": 28,
   "metadata": {},
   "outputs": [],
   "source": [
    "# set operations\n",
    "group1 = {'apple', 'banana', 'orange', 'grapes', 'mango', 'pineapple', 'watermelon'}\n",
    "group2 = {'apple', 'grapes', 'mango', 'pineapple', 'watermelon', 'kiwi', 'papaya', 'cherry'}"
   ]
  },
  {
   "cell_type": "code",
   "execution_count": 29,
   "metadata": {},
   "outputs": [
    {
     "name": "stdout",
     "output_type": "stream",
     "text": [
      "{'kiwi', 'cherry', 'watermelon', 'orange', 'apple', 'grapes', 'papaya', 'banana', 'mango', 'pineapple'}\n",
      "{'kiwi', 'cherry', 'watermelon', 'orange', 'apple', 'grapes', 'papaya', 'banana', 'mango', 'pineapple'}\n"
     ]
    }
   ],
   "source": [
    "# union\n",
    "print(group1 | group2)  #all elements from both the sets\n",
    "print(group1.union(group2))"
   ]
  },
  {
   "cell_type": "code",
   "execution_count": 30,
   "metadata": {},
   "outputs": [
    {
     "name": "stdout",
     "output_type": "stream",
     "text": [
      "{'watermelon', 'apple', 'grapes', 'mango', 'pineapple'}\n",
      "{'watermelon', 'apple', 'grapes', 'mango', 'pineapple'}\n"
     ]
    }
   ],
   "source": [
    "# intersection\n",
    "print(group1 & group2)  #common elements from both the sets\n",
    "print(group1.intersection(group2))"
   ]
  },
  {
   "cell_type": "code",
   "execution_count": 32,
   "metadata": {},
   "outputs": [
    {
     "name": "stdout",
     "output_type": "stream",
     "text": [
      "{'banana', 'orange'}\n",
      "{'kiwi', 'cherry', 'papaya'}\n",
      "{'kiwi', 'cherry', 'papaya'}\n"
     ]
    }
   ],
   "source": [
    "# difference\n",
    "print(group1 - group2)  #elements in group1 but not in group2\n",
    "print(group2 - group1)  #elemnets in group2 but not in group1\n",
    "print(group2.difference(group1))"
   ]
  },
  {
   "cell_type": "code",
   "execution_count": 33,
   "metadata": {},
   "outputs": [
    {
     "name": "stdout",
     "output_type": "stream",
     "text": [
      "{'kiwi', 'cherry', 'orange', 'papaya', 'banana'}\n",
      "{'kiwi', 'cherry', 'orange', 'papaya', 'banana'}\n"
     ]
    }
   ],
   "source": [
    "# symmetric difference\n",
    "print(group1 ^ group2)  # elements in group1 or group2 but not in both\n",
    "print(group1.symmetric_difference(group2))"
   ]
  },
  {
   "attachments": {},
   "cell_type": "markdown",
   "metadata": {},
   "source": [
    "- ### task\n",
    "    - create a list called reports that will hold 7 students.\n",
    "    - each student will have a name and marks in 3 subjects.\n",
    "    - use for loop to display the report of each student"
   ]
  },
  {
   "cell_type": "code",
   "execution_count": 40,
   "metadata": {},
   "outputs": [
    {
     "name": "stdout",
     "output_type": "stream",
     "text": [
      "students name, marks in 3 subjects = ['Abhishek', 7, 8, 9]\n",
      "students name, marks in 3 subjects = ['shadab', 6, 5, 8]\n",
      "students name, marks in 3 subjects = ['mihir', 5, 6, 9]\n",
      "students name, marks in 3 subjects = ['anurag', 4, 9, 10]\n",
      "students name, marks in 3 subjects = ['akrama', 7, 8, 4]\n",
      "students name, marks in 3 subjects = ['talha', 7, 4, 10]\n",
      "students name, marks in 3 subjects = ['raj', 10, 10, 10]\n"
     ]
    }
   ],
   "source": [
    "reports = [['Abhishek', 7,8,9], ['shadab',6,5,8], ['mihir', 5,6,9,], ['anurag', 4,9,10], ['akrama', 7,8,4], ['talha', 7,4,10], ['raj', 10,10,10]]\n",
    "for i in reports:\n",
    "    print(f'students name, marks in 3 subjects = {i}')\n"
   ]
  },
  {
   "cell_type": "code",
   "execution_count": 41,
   "metadata": {},
   "outputs": [
    {
     "name": "stdout",
     "output_type": "stream",
     "text": [
      "['anurag', 7, 8, 9]\n",
      "['mihir', 6, 5, 8]\n",
      "['abhinav', 5, 6, 9]\n",
      "['dipali', 4, 9, 10]\n",
      "['sakshi', 7, 8, 4]\n",
      "['raj', 7, 4, 10]\n",
      "['shradhha', 10, 10, 10]\n"
     ]
    }
   ],
   "source": [
    "reports = [['anurag', 7,8,9], ['mihir',6,5,8], ['abhinav', 5,6,9,], ['dipali', 4,9,10], ['sakshi', 7,8,4], ['raj', 7,4,10], ['shradhha', 10,10,10]]\n",
    "for i in reports:\n",
    "    print(i)"
   ]
  },
  {
   "cell_type": "code",
   "execution_count": 42,
   "metadata": {},
   "outputs": [],
   "source": [
    "reports = [\n",
    "    ['Rohan', [\n",
    "        ['Maths', 90],\n",
    "        ['Science', 95],\n",
    "        ['English', 85]\n",
    "    ]],\n",
    "    ['Sohan', [\n",
    "        ['Maths', 45],\n",
    "        ['Science', 60],\n",
    "        ['English', 67]\n",
    "    ]],\n",
    "     ['Mohan', [\n",
    "        ['Maths', 63],\n",
    "        ['Science', 78],\n",
    "        ['English', 90]\n",
    "    ]],\n",
    "     ['Rajesh', [\n",
    "        ['Maths', 32],\n",
    "        ['Science', 0],\n",
    "        ['English', 10]\n",
    "    ]],\n",
    "     ['Rakesh', [\n",
    "        ['Maths', 56],\n",
    "        ['Science', 61],\n",
    "        ['English', 67]\n",
    "    ]],\n",
    "     ['Suresh', [\n",
    "        ['Maths', 10],\n",
    "        ['Science', 56],\n",
    "        ['English', 78]\n",
    "    ]],\n",
    "     ['Vimlesh', [\n",
    "        ['Maths', 93],\n",
    "        ['Science', 92],\n",
    "        ['English', 54]\n",
    "    ]],\n",
    "\n",
    "]"
   ]
  },
  {
   "cell_type": "code",
   "execution_count": 44,
   "metadata": {},
   "outputs": [
    {
     "name": "stdout",
     "output_type": "stream",
     "text": [
      "Rohan\n",
      "Maths 90\n",
      "Science 95\n",
      "English 85\n",
      "Sohan\n",
      "Maths 45\n",
      "Science 60\n",
      "English 67\n",
      "Mohan\n",
      "Maths 63\n",
      "Science 78\n",
      "English 90\n",
      "Rajesh\n",
      "Maths 32\n",
      "Science 0\n",
      "English 10\n",
      "Rakesh\n",
      "Maths 56\n",
      "Science 61\n",
      "English 67\n",
      "Suresh\n",
      "Maths 10\n",
      "Science 56\n",
      "English 78\n",
      "Vimlesh\n",
      "Maths 93\n",
      "Science 92\n",
      "English 54\n"
     ]
    }
   ],
   "source": [
    "for student in reports:\n",
    "    for detail in student:\n",
    "        if isinstance(detail, str):         # isinstance - checks the data type of the variable then we are printing it.\n",
    "            print(detail)\n",
    "        if isinstance(detail, list):\n",
    "            for subject in detail:\n",
    "                print(subject[0], subject[1])"
   ]
  }
 ],
 "metadata": {
  "kernelspec": {
   "display_name": "base",
   "language": "python",
   "name": "python3"
  },
  "language_info": {
   "codemirror_mode": {
    "name": "ipython",
    "version": 3
   },
   "file_extension": ".py",
   "mimetype": "text/x-python",
   "name": "python",
   "nbconvert_exporter": "python",
   "pygments_lexer": "ipython3",
   "version": "3.10.10"
  },
  "orig_nbformat": 4
 },
 "nbformat": 4,
 "nbformat_minor": 2
}
