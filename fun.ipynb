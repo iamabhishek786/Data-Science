{
 "cells": [
  {
   "cell_type": "code",
   "execution_count": 2,
   "metadata": {},
   "outputs": [],
   "source": [
    "def xyz():  # creating a function or defining it\n",
    "    pass    # we can create its processing afterwards what it does and we can move ahead"
   ]
  },
  {
   "cell_type": "code",
   "execution_count": 4,
   "metadata": {},
   "outputs": [],
   "source": [
    "def add5(): # we have created a function, in order to use it we'll have to call it\n",
    "    x = int(input(\"Enter 1 number: \"))\n",
    "    y = int(input(\"Enter 2 number: \"))\n",
    "    z = int(input(\"Enter 3 number: \"))\n",
    "    a = int(input(\"Enter 4 number: \"))\n",
    "    b = int(input(\"Enter 5 number: \"))\n",
    "    print(f'output is {x+y+z+a+a}')"
   ]
  },
  {
   "cell_type": "code",
   "execution_count": 5,
   "metadata": {},
   "outputs": [
    {
     "name": "stdout",
     "output_type": "stream",
     "text": [
      "output is 140\n"
     ]
    }
   ],
   "source": [
    "add5()  # a non-parametrised function & non returnable function\n",
    "        # As a rule of thumb we should never use input() in a user-defined function we are just using it here just for our own understanding"
   ]
  },
  {
   "cell_type": "code",
   "execution_count": 9,
   "metadata": {},
   "outputs": [],
   "source": [
    "def add5(a,b,c,d,e):    # a parameterised & returnable function\n",
    "    return a+b+c+d+e"
   ]
  },
  {
   "cell_type": "code",
   "execution_count": 7,
   "metadata": {},
   "outputs": [
    {
     "data": {
      "text/plain": [
       "25"
      ]
     },
     "execution_count": 7,
     "metadata": {},
     "output_type": "execute_result"
    }
   ],
   "source": [
    "add5(4,5,6,7,3)"
   ]
  },
  {
   "cell_type": "code",
   "execution_count": 8,
   "metadata": {},
   "outputs": [
    {
     "name": "stdout",
     "output_type": "stream",
     "text": [
      "25\n"
     ]
    }
   ],
   "source": [
    "ans = add5(4,5,6,7,3)\n",
    "print(ans)"
   ]
  },
  {
   "cell_type": "code",
   "execution_count": 18,
   "metadata": {},
   "outputs": [],
   "source": [
    "def fib10():\n",
    "    x = [0,1]\n",
    "    for _ in range(8):\n",
    "        x.append(x[-1] + x[-2])\n",
    "    return x"
   ]
  },
  {
   "cell_type": "code",
   "execution_count": 19,
   "metadata": {},
   "outputs": [],
   "source": [
    "def fibxtream(first, second, size):\n",
    "    x = [first, second]\n",
    "    for _ in range(size-2):\n",
    "        x.append(x[-1] + x[-2])\n",
    "    return x"
   ]
  },
  {
   "cell_type": "code",
   "execution_count": 20,
   "metadata": {},
   "outputs": [
    {
     "data": {
      "text/plain": [
       "[0, 1, 1, 2, 3, 5, 8, 13, 21, 34]"
      ]
     },
     "execution_count": 20,
     "metadata": {},
     "output_type": "execute_result"
    }
   ],
   "source": [
    "fib10()"
   ]
  },
  {
   "cell_type": "code",
   "execution_count": 21,
   "metadata": {},
   "outputs": [
    {
     "data": {
      "text/plain": [
       "[0,\n",
       " 1,\n",
       " 1,\n",
       " 2,\n",
       " 3,\n",
       " 5,\n",
       " 8,\n",
       " 13,\n",
       " 21,\n",
       " 34,\n",
       " 55,\n",
       " 89,\n",
       " 144,\n",
       " 233,\n",
       " 377,\n",
       " 610,\n",
       " 987,\n",
       " 1597,\n",
       " 2584,\n",
       " 4181]"
      ]
     },
     "execution_count": 21,
     "metadata": {},
     "output_type": "execute_result"
    }
   ],
   "source": [
    "fibxtream(0, 1, 20)"
   ]
  },
  {
   "attachments": {},
   "cell_type": "markdown",
   "metadata": {},
   "source": [
    "- A basic thing to keep in mind that -\n",
    "Whenever we'll use '()' paranthesis with something after its name it is said to be a function like - print(), input(), \n",
    "output(), etc. And if we are using that function with a variable's name like - x.append(), x.remove() where 'x' is the \n",
    "variable then these append() and remove(), would be called as methods. Where '.' is the dot operator."
   ]
  },
  {
   "attachments": {},
   "cell_type": "markdown",
   "metadata": {},
   "source": [
    "### Types of function in python on the basis of paramter\n",
    "1. Required argument function\n",
    "2. Keyword argument function\n",
    "3. Default argument function\n",
    "4. Variable length argument function\n",
    "    - *args(varibale length argument)   -   [for 'n' no of arguments]\n",
    "    - **kwargs(variable length keyword argument)    -   [we can pass as many values as possible here]"
   ]
  },
  {
   "cell_type": "code",
   "execution_count": 1,
   "metadata": {},
   "outputs": [],
   "source": [
    "def multiplier(x,y):\n",
    "    return x*y"
   ]
  },
  {
   "cell_type": "code",
   "execution_count": 4,
   "metadata": {},
   "outputs": [
    {
     "name": "stdout",
     "output_type": "stream",
     "text": [
      "6\n",
      "396\n"
     ]
    },
    {
     "ename": "TypeError",
     "evalue": "multiplier() missing 1 required positional argument: 'y'",
     "output_type": "error",
     "traceback": [
      "\u001b[1;31m---------------------------------------------------------------------------\u001b[0m",
      "\u001b[1;31mTypeError\u001b[0m                                 Traceback (most recent call last)",
      "Cell \u001b[1;32mIn[4], line 3\u001b[0m\n\u001b[0;32m      1\u001b[0m \u001b[39mprint\u001b[39m(multiplier(\u001b[39m2\u001b[39m,\u001b[39m3\u001b[39m))\n\u001b[0;32m      2\u001b[0m \u001b[39mprint\u001b[39m(multiplier(\u001b[39m12\u001b[39m,\u001b[39m33\u001b[39m))\n\u001b[1;32m----> 3\u001b[0m \u001b[39mprint\u001b[39m(multiplier(\u001b[39m2\u001b[39;49m))\n",
      "\u001b[1;31mTypeError\u001b[0m: multiplier() missing 1 required positional argument: 'y'"
     ]
    }
   ],
   "source": [
    "print(multiplier(2,3))\n",
    "print(multiplier(12,33))\n",
    "print(multiplier(2))    # Can't miss the other argument it would definitely give ERROR"
   ]
  },
  {
   "cell_type": "code",
   "execution_count": 5,
   "metadata": {},
   "outputs": [],
   "source": [
    "def si(p,r,t):\n",
    "    return p*r*t/100"
   ]
  },
  {
   "cell_type": "code",
   "execution_count": 7,
   "metadata": {},
   "outputs": [
    {
     "name": "stdout",
     "output_type": "stream",
     "text": [
      "100.0\n",
      "100.0\n"
     ]
    }
   ],
   "source": [
    "print(si(10,1000,1))    #positional argument, where position matters\n",
    "print(si(p=1000,r=10,t=1))  #Keyword argument"
   ]
  },
  {
   "cell_type": "code",
   "execution_count": 13,
   "metadata": {},
   "outputs": [],
   "source": [
    "def multiplierv2(x=1,y=1,z=1):  # Assigning default value of z, default value should be given always by keeping the argument on the right most side.\n",
    "    return x*y*z"
   ]
  },
  {
   "cell_type": "code",
   "execution_count": 15,
   "metadata": {},
   "outputs": [
    {
     "name": "stdout",
     "output_type": "stream",
     "text": [
      "8\n",
      "80\n",
      "80\n",
      "20000\n",
      "1\n",
      "12\n",
      "12\n",
      "2400\n"
     ]
    }
   ],
   "source": [
    "print(multiplierv2(2,4))\n",
    "print(multiplierv2(2,4,10))\n",
    "print(multiplierv2(2,4, z=10))\n",
    "print(multiplierv2(x=2, z=10, y=1000))\n",
    "print(multiplierv2())\n",
    "print(multiplierv2(12))\n",
    "print(multiplierv2(z=12))\n",
    "print(multiplierv2(z=12, x=200))"
   ]
  },
  {
   "cell_type": "code",
   "execution_count": 16,
   "metadata": {},
   "outputs": [],
   "source": [
    "def mean(*numbers):         # '*args' is using for passing 'n' no of arguments, we can write anything after'*'.\n",
    "    print(numbers)\n",
    "    print(type(numbers))"
   ]
  },
  {
   "cell_type": "code",
   "execution_count": 20,
   "metadata": {},
   "outputs": [],
   "source": [
    "def mean(*numbers):\n",
    "    return sum(numbers)/len(numbers)"
   ]
  },
  {
   "cell_type": "code",
   "execution_count": 21,
   "metadata": {},
   "outputs": [
    {
     "data": {
      "text/plain": [
       "2.0"
      ]
     },
     "execution_count": 21,
     "metadata": {},
     "output_type": "execute_result"
    }
   ],
   "source": [
    "mean(1,2,3)"
   ]
  },
  {
   "cell_type": "code",
   "execution_count": 22,
   "metadata": {},
   "outputs": [
    {
     "name": "stdout",
     "output_type": "stream",
     "text": [
      "# 1. \n",
      "\n",
      "\"\"\"from turtle import*\n",
      "\n",
      "size=10\n",
      "while True:\n",
      "    fd(size)\n",
      "    lt(60)\n",
      "    size+=1\n",
      "\"\"\"\n",
      "\n",
      "\n",
      "\n",
      "\n",
      "# 2.\n",
      "\n",
      "\"\"\" from turtle import*\n",
      "speed('fastest')\n",
      "size=10\n",
      "angle=61\n",
      "colors=['red','purple','yellow','violet','indigo','green','blue','orange']\n",
      "while True:\n",
      "    pencolor(colors[size%8])\n",
      "    fd(size)\n",
      "    lt(angle)\n",
      "    size+=1\n",
      "\"\"\"\n",
      "\n"
     ]
    }
   ],
   "source": [
    "# read file\n",
    "with open('t2.py') as f:\n",
    "    print(f.read())"
   ]
  },
  {
   "cell_type": "code",
   "execution_count": 23,
   "metadata": {},
   "outputs": [],
   "source": [
    "data ='Journey before destination'\n",
    "with open('quote.text', 'w') as f:      #we cannot read word file, pdf file unless we have the required library for it.\n",
    "    f.write(data)                       #'w' is used in the above line of code for making a file if it does'nt exist."
   ]
  },
  {
   "cell_type": "code",
   "execution_count": 24,
   "metadata": {},
   "outputs": [],
   "source": [
    "codedemo =''' #this example\n",
    "def thisfunc():\n",
    "    print(\"Hello World\")\n",
    "'''\n",
    "with open('code with coding.py', 'w') as f:\n",
    "    f.write(codedemo)"
   ]
  },
  {
   "cell_type": "code",
   "execution_count": 25,
   "metadata": {},
   "outputs": [],
   "source": [
    "def report(**students):\n",
    "        with open('report.csv', 'w') as f:\n",
    "            f.write('Name,Marks\\n')\n",
    "            for name, marks in students.items():\n",
    "                f.write(f'{name},{marks}\\n')"
   ]
  },
  {
   "cell_type": "code",
   "execution_count": 26,
   "metadata": {},
   "outputs": [],
   "source": [
    "report(ram=100, shyam=200, mohan=300)   # these are the arguments which are being passed, so we won't be using single quotes."
   ]
  },
  {
   "attachments": {},
   "cell_type": "markdown",
   "metadata": {},
   "source": [
    "### How to find out these values of f(x) with different expressions using code in python -\n",
    "- f(x) = x**2 + x*10 + x\n",
    "- f(2) = ?\n",
    "\n",
    "- f(x,y) = x**2 + y**2 + x*y\n",
    "- f(2,3) = ?"
   ]
  },
  {
   "cell_type": "code",
   "execution_count": 27,
   "metadata": {},
   "outputs": [],
   "source": [
    "def eq1(x=1):\n",
    "    return x**2 + x*10 +x"
   ]
  },
  {
   "cell_type": "code",
   "execution_count": 28,
   "metadata": {},
   "outputs": [
    {
     "name": "stdout",
     "output_type": "stream",
     "text": [
      "26 42 210\n"
     ]
    }
   ],
   "source": [
    "print(eq1(2), eq1(3), eq1(10))"
   ]
  },
  {
   "cell_type": "code",
   "execution_count": 29,
   "metadata": {},
   "outputs": [],
   "source": [
    "f = lambda i: i**2 + i*10 +i"
   ]
  },
  {
   "cell_type": "code",
   "execution_count": 30,
   "metadata": {},
   "outputs": [
    {
     "name": "stdout",
     "output_type": "stream",
     "text": [
      "26 210\n"
     ]
    }
   ],
   "source": [
    "print(f(2), f(10))"
   ]
  },
  {
   "cell_type": "code",
   "execution_count": 31,
   "metadata": {},
   "outputs": [],
   "source": [
    "f = lambda i: i**2 + i*10 +i\n",
    "g = lambda x,y: x+y if x>y else y-x"
   ]
  },
  {
   "cell_type": "code",
   "execution_count": 32,
   "metadata": {},
   "outputs": [
    {
     "name": "stdout",
     "output_type": "stream",
     "text": [
      "26 210\n",
      "11 35\n"
     ]
    }
   ],
   "source": [
    "print(f(2), f(10))\n",
    "print(g(2,13), g(33,2))"
   ]
  }
 ],
 "metadata": {
  "kernelspec": {
   "display_name": "base",
   "language": "python",
   "name": "python3"
  },
  "language_info": {
   "codemirror_mode": {
    "name": "ipython",
    "version": 3
   },
   "file_extension": ".py",
   "mimetype": "text/x-python",
   "name": "python",
   "nbconvert_exporter": "python",
   "pygments_lexer": "ipython3",
   "version": "3.10.10"
  },
  "orig_nbformat": 4
 },
 "nbformat": 4,
 "nbformat_minor": 2
}
