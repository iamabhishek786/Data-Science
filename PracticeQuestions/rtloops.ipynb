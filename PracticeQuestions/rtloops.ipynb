{
 "cells": [
  {
   "cell_type": "code",
   "execution_count": 68,
   "metadata": {},
   "outputs": [
    {
     "name": "stdout",
     "output_type": "stream",
     "text": [
      "0,1,2,3,4,5,6,7,8,9,10,"
     ]
    }
   ],
   "source": [
    "# Ques.1 Write a program to print numbers from 1 to 10 using a for loop.\n",
    "\n",
    "for i in range(0,11):\n",
    "    print(i, end=',')"
   ]
  },
  {
   "cell_type": "code",
   "execution_count": 70,
   "metadata": {},
   "outputs": [
    {
     "name": "stdout",
     "output_type": "stream",
     "text": [
      "Table of number - 12\n",
      "12 * 1 = 12\n",
      "12 * 2 = 24\n",
      "12 * 3 = 36\n",
      "12 * 4 = 48\n",
      "12 * 5 = 60\n",
      "12 * 6 = 72\n",
      "12 * 7 = 84\n",
      "12 * 8 = 96\n",
      "12 * 9 = 108\n",
      "12 * 10 = 120\n",
      "12 * 11 = 132\n",
      "12 * 12 = 144\n",
      "12 * 13 = 156\n",
      "12 * 14 = 168\n",
      "12 * 15 = 180\n",
      "12 * 16 = 192\n",
      "12 * 17 = 204\n",
      "12 * 18 = 216\n",
      "12 * 19 = 228\n",
      "12 * 20 = 240\n"
     ]
    }
   ],
   "source": [
    "# Ques 2. Write a program to print the multiplication table of a given number using a while loop.\n",
    "\n",
    "''' 1. Naive Approach\n",
    "\n",
    "num = int(input('Enter a number'))\n",
    "while(True):\n",
    "    print(f'Table of number: {num}')\n",
    "    for i in range(1,11):\n",
    "        print(f'{num} * {i}  =', num*i)\n",
    "    break '''\n",
    "\n",
    "\n",
    "\n",
    "\n",
    "# 2. Better Approach\n",
    "\n",
    "num = int(input('Enter a number'))\n",
    "limit = int(input('Enter your limit'))\n",
    "lv=1    # loopvariable\n",
    "print(f'Table of number - {num}')\n",
    "while(lv<=limit):\n",
    "    print(f'{num} * {lv} =', num*lv)\n",
    "    lv+=1\n"
   ]
  },
  {
   "cell_type": "code",
   "execution_count": 71,
   "metadata": {},
   "outputs": [
    {
     "name": "stdout",
     "output_type": "stream",
     "text": [
      "Sum of Even numbers =  2550\n"
     ]
    }
   ],
   "source": [
    "# Ques 3. Write a program to find the sum of all even numbers between 1 and 100 using a for loop.\n",
    "\n",
    "sum=0\n",
    "for i in range(1,101):\n",
    "    if(i%2==0):\n",
    "        sum=sum+i\n",
    "print(f'Sum of Even numbers = ', sum)"
   ]
  },
  {
   "cell_type": "code",
   "execution_count": 72,
   "metadata": {},
   "outputs": [
    {
     "name": "stdout",
     "output_type": "stream",
     "text": [
      "Prime Number - 13\n"
     ]
    }
   ],
   "source": [
    "# Ques 4. Write a program to check if a given number is prime or not using a while loop.\n",
    "\n",
    "num = int(input('Enter a number'))\n",
    "lim=1 \n",
    "c=0\n",
    "while(lim<=num):\n",
    "    if(num%lim==0):\n",
    "        c=c+1\n",
    "    lim+=1\n",
    "if(c==2):\n",
    "    print(f'Prime Number - {num}')\n",
    "else:\n",
    "    print(f'Not a Prime Number - {num}')    "
   ]
  },
  {
   "cell_type": "code",
   "execution_count": 73,
   "metadata": {},
   "outputs": [
    {
     "name": "stdout",
     "output_type": "stream",
     "text": [
      "Factorial of 5 =  120\n"
     ]
    }
   ],
   "source": [
    "# Ques 5. Write a program to calculate the factorial of a number using a for loop.\n",
    "\n",
    "num=int(input('Enter a number'))\n",
    "fact=1\n",
    "for i in range(1,num+1):\n",
    "    fact*=i\n",
    "print(f'Factorial of {num} = ', fact)"
   ]
  },
  {
   "cell_type": "code",
   "execution_count": 74,
   "metadata": {},
   "outputs": [
    {
     "name": "stdout",
     "output_type": "stream",
     "text": [
      "0 1 2 3 5 8 13 21 34 55 89 "
     ]
    }
   ],
   "source": [
    "# Ques 6. Write a program to print the Fibonacci series up to a given limit using a while loop.\n",
    "\n",
    "lim = int(input('Enter number of terms to be printed of a fibonacci series - '))\n",
    "i = 0\n",
    "a = 0\n",
    "b = 1 \n",
    "sum=0\n",
    "print('0 ',end='')\n",
    "while(i<lim):\n",
    "    sum = a+b\n",
    "    print(sum, end=' ')\n",
    "    a=b\n",
    "    b=sum\n",
    "    i+=1\n",
    "    "
   ]
  },
  {
   "cell_type": "code",
   "execution_count": 75,
   "metadata": {},
   "outputs": [
    {
     "name": "stdout",
     "output_type": "stream",
     "text": [
      "Largest element in an array is = 97\n"
     ]
    }
   ],
   "source": [
    "# Ques 7. Write a program to find the largest element in an array using a for loop.\n",
    "\n",
    "arr = [2,56,8,23,89,45,12,51,38,44,97,20,12,71]\n",
    "l=0\n",
    "for i in arr:\n",
    "    if(i>l):\n",
    "        l=i\n",
    "print(f'Largest element in an array is = {l}')"
   ]
  },
  {
   "cell_type": "code",
   "execution_count": 76,
   "metadata": {},
   "outputs": [
    {
     "name": "stdout",
     "output_type": "stream",
     "text": [
      "Reverse String -\n",
      "kehsihba"
     ]
    }
   ],
   "source": [
    "# Ques 8. Write a program to reverse a given string using a while loop.\n",
    "\n",
    "str = input('Enter a string')\n",
    "index=0\n",
    "rev=-1\n",
    "print(f'Reverse String -')\n",
    "while(index<len(str)):\n",
    "    print(str[rev],end='')\n",
    "    rev-=1\n",
    "    index+=1\n"
   ]
  },
  {
   "cell_type": "code",
   "execution_count": 77,
   "metadata": {},
   "outputs": [
    {
     "name": "stdout",
     "output_type": "stream",
     "text": [
      "A->65\n",
      "B->66\n",
      "C->67\n",
      "D->68\n",
      "E->69\n",
      "F->70\n",
      "G->71\n",
      "H->72\n",
      "I->73\n",
      "J->74\n",
      "K->75\n",
      "L->76\n",
      "M->77\n",
      "N->78\n",
      "O->79\n",
      "P->80\n",
      "Q->81\n",
      "R->82\n",
      "S->83\n",
      "T->84\n",
      "U->85\n",
      "V->86\n",
      "W->87\n",
      "X->88\n",
      "Y->89\n",
      "Z->90\n"
     ]
    }
   ],
   "source": [
    "# Ques 9. Write a program to print the ASCII values of all uppercase letters using a for loop.\n",
    "\n",
    "for i in range(65,91):\n",
    "    print(chr(i), end='->')\n",
    "    alpha = chr(i)\n",
    "    print(ord(alpha))"
   ]
  },
  {
   "cell_type": "code",
   "execution_count": 78,
   "metadata": {},
   "outputs": [
    {
     "name": "stdout",
     "output_type": "stream",
     "text": [
      "Palindrome string - ehehehe\n"
     ]
    }
   ],
   "source": [
    "# Ques 10. Write a program to check if a given string is a palindrome using a while loop.\n",
    "\n",
    "str1 = input('Enter any string')\n",
    "str2 = str1[::-1]\n",
    "if (str1==str2):\n",
    "    print(f'Palindrome string -',str2)\n",
    "else:\n",
    "    print(f'Not a Palindrome string -',str2)"
   ]
  },
  {
   "cell_type": "code",
   "execution_count": 79,
   "metadata": {},
   "outputs": [
    {
     "name": "stdout",
     "output_type": "stream",
     "text": [
      "5.5\n"
     ]
    }
   ],
   "source": [
    "# Ques 11. Write a program to calculate the average of a list of numbers using a for loop.\n",
    "a=[1,2,3,4,5,6,7,8,9,10]\n",
    "j=0\n",
    "k=0\n",
    "for i in a:\n",
    "    j+=a[k]\n",
    "    k+=1\n",
    "j=j/len(a)\n",
    "print(j)"
   ]
  },
  {
   "cell_type": "code",
   "execution_count": 80,
   "metadata": {},
   "outputs": [
    {
     "name": "stdout",
     "output_type": "stream",
     "text": [
      "Smallest element in an array is = 2\n"
     ]
    }
   ],
   "source": [
    "# Ques 12. Write a program to find the smallest element in an array using a while loop.\n",
    "\n",
    "arr = [2,56,8,23,89,45,12,51,38,44,97,20,12,71]\n",
    "s=100\n",
    "for i in arr:\n",
    "    if(i<s):\n",
    "        s=i\n",
    "print(f'Smallest element in an array is = {s}')"
   ]
  },
  {
   "cell_type": "code",
   "execution_count": 81,
   "metadata": {},
   "outputs": [
    {
     "name": "stdout",
     "output_type": "stream",
     "text": [
      "30\n"
     ]
    }
   ],
   "source": [
    "# Ques 13. Write a program to calculate the sum of digits of a number using a for loop.\n",
    "\n",
    "num=input('Enter Any Number')\n",
    "sum=0\n",
    "for i in range(0,len(num)):\n",
    "    num=int(num)\n",
    "    sum+=num%10\n",
    "    num/=10\n",
    "print(sum)\n",
    "\n"
   ]
  },
  {
   "cell_type": "code",
   "execution_count": 82,
   "metadata": {},
   "outputs": [
    {
     "name": "stdout",
     "output_type": "stream",
     "text": [
      "Leap Year = 2000\n"
     ]
    }
   ],
   "source": [
    "# Ques 14. Write a program to check if a given year is a leap year using a while loop.\n",
    "year=int(input('Enter a year to be checked'))\n",
    "while(year!=0):\n",
    "    if(year%4==0):\n",
    "        print(f'Leap Year =' ,year)\n",
    "        break\n",
    "    else:\n",
    "        print(f'Not a Leap Year =' ,year)\n",
    "        break"
   ]
  },
  {
   "cell_type": "code",
   "execution_count": 12,
   "metadata": {},
   "outputs": [
    {
     "name": "stdout",
     "output_type": "stream",
     "text": [
      "Table of number - 1\n",
      "1 * 1 = 1\n",
      "1 * 2 = 2\n",
      "1 * 3 = 3\n",
      "1 * 4 = 4\n",
      "1 * 5 = 5\n",
      "1 * 6 = 6\n",
      "1 * 7 = 7\n",
      "1 * 8 = 8\n",
      "1 * 9 = 9\n",
      "1 * 10 = 10\n",
      "Table of number - 2\n",
      "2 * 1 = 2\n",
      "2 * 2 = 4\n",
      "2 * 3 = 6\n",
      "2 * 4 = 8\n",
      "2 * 5 = 10\n",
      "2 * 6 = 12\n",
      "2 * 7 = 14\n",
      "2 * 8 = 16\n",
      "2 * 9 = 18\n",
      "2 * 10 = 20\n",
      "Table of number - 3\n",
      "3 * 1 = 3\n",
      "3 * 2 = 6\n",
      "3 * 3 = 9\n",
      "3 * 4 = 12\n",
      "3 * 5 = 15\n",
      "3 * 6 = 18\n",
      "3 * 7 = 21\n",
      "3 * 8 = 24\n",
      "3 * 9 = 27\n",
      "3 * 10 = 30\n",
      "Table of number - 4\n",
      "4 * 1 = 4\n",
      "4 * 2 = 8\n",
      "4 * 3 = 12\n",
      "4 * 4 = 16\n",
      "4 * 5 = 20\n",
      "4 * 6 = 24\n",
      "4 * 7 = 28\n",
      "4 * 8 = 32\n",
      "4 * 9 = 36\n",
      "4 * 10 = 40\n",
      "Table of number - 5\n",
      "5 * 1 = 5\n",
      "5 * 2 = 10\n",
      "5 * 3 = 15\n",
      "5 * 4 = 20\n",
      "5 * 5 = 25\n",
      "5 * 6 = 30\n",
      "5 * 7 = 35\n",
      "5 * 8 = 40\n",
      "5 * 9 = 45\n",
      "5 * 10 = 50\n"
     ]
    }
   ],
   "source": [
    "# Ques 15. Write a program to print the multiplication table of numbers from 1 to 5 using a for loop.\n",
    "\n",
    "limit = int(input('Enter your limit'))\n",
    "lv=1    # loopvariable\n",
    "for i in range(1,6):\n",
    "    print(f'Table of number - {i}')\n",
    "    while(lv<=limit):\n",
    "        print(f'{i} * {lv} =', i*lv)\n",
    "        lv+=1\n",
    "    lv=1    # changing again the value of 'lv' which will become max at the end of each while iteration."
   ]
  },
  {
   "cell_type": "code",
   "execution_count": 9,
   "metadata": {},
   "outputs": [
    {
     "name": "stdout",
     "output_type": "stream",
     "text": [
      "Factorial of number 6 = 720\n"
     ]
    }
   ],
   "source": [
    "# Ques 16. Write a program to find the factorial of a number using a while loop.\n",
    "num=int(input('Enter any number'))\n",
    "n=1\n",
    "f=1\n",
    "while(n<=num):\n",
    "    f*=n\n",
    "    n+=1\n",
    "print(f'Factorial of number {num} = {f}')"
   ]
  },
  {
   "cell_type": "code",
   "execution_count": 2,
   "metadata": {},
   "outputs": [],
   "source": [
    "# Ques 17. Write a program to count the number of vowels in a given string using a for loop."
   ]
  },
  {
   "cell_type": "code",
   "execution_count": null,
   "metadata": {},
   "outputs": [],
   "source": [
    "# Ques 18. Write a program to check if a given number is a perfect square using a while loop."
   ]
  },
  {
   "cell_type": "code",
   "execution_count": 3,
   "metadata": {},
   "outputs": [
    {
     "name": "stdout",
     "output_type": "stream",
     "text": [
      "Largest element in an array is = 97\n",
      "Smallest element in an array is = 2\n"
     ]
    }
   ],
   "source": [
    "# Ques 19. Write a program to find the largest and smallest elements in an array using a for loop.\n",
    "\n",
    "arr = [2,56,8,23,89,45,12,51,38,44,97,20,12,71]\n",
    "s=100\n",
    "l=0\n",
    "for i in arr:\n",
    "    if(i<s):\n",
    "        s=i\n",
    "    elif(i>l):\n",
    "        l=i\n",
    "print(f'Largest element in an array is = {l}')\n",
    "print(f'Smallest element in an array is = {s}')"
   ]
  },
  {
   "cell_type": "code",
   "execution_count": null,
   "metadata": {},
   "outputs": [],
   "source": [
    "# Ques 20. Write a program to reverse the order of words in a sentence using a while loop."
   ]
  }
 ],
 "metadata": {
  "kernelspec": {
   "display_name": "base",
   "language": "python",
   "name": "python3"
  },
  "language_info": {
   "codemirror_mode": {
    "name": "ipython",
    "version": 3
   },
   "file_extension": ".py",
   "mimetype": "text/x-python",
   "name": "python",
   "nbconvert_exporter": "python",
   "pygments_lexer": "ipython3",
   "version": "3.10.10"
  },
  "orig_nbformat": 4
 },
 "nbformat": 4,
 "nbformat_minor": 2
}
