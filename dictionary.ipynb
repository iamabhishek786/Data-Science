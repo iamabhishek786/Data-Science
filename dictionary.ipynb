{
 "cells": [
  {
   "attachments": {},
   "cell_type": "markdown",
   "metadata": {},
   "source": [
    "- ### dictionary\n",
    "    - ordered\n",
    "    - mutable\n",
    "    - heterogenous\n",
    "    - key value pair\n",
    "        - key are immutable & unique\n",
    "        - value can be mutable or immutable and can be duplicate and have any type\n",
    "    - unindexed\n",
    "    - represented by '{}'   \n",
    "    - dict() that can take key value pair as argument"
   ]
  },
  {
   "attachments": {},
   "cell_type": "markdown",
   "metadata": {},
   "source": [
    "- ### creating"
   ]
  },
  {
   "cell_type": "code",
   "execution_count": 1,
   "metadata": {},
   "outputs": [],
   "source": [
    "fruits = {\n",
    "    \"apple\": 2,\n",
    "    \"banana\": 3,\n",
    "    \"orange\": 5\n",
    "}"
   ]
  },
  {
   "cell_type": "code",
   "execution_count": 2,
   "metadata": {},
   "outputs": [],
   "source": [
    "grocery = {\n",
    "    'fruits': ['apple', 'banana', 'orange', 'grape'],\n",
    "    'vegetables': ['carrot', 'lettuce', 'onion'],\n",
    "    'dairy': [ 'milk', 'cheese', 'yogurt'],\n",
    "    'meat': None\n",
    "}"
   ]
  },
  {
   "cell_type": "code",
   "execution_count": 4,
   "metadata": {},
   "outputs": [],
   "source": [
    "# dictionary in a dictionary\n",
    "reports = {\n",
    "    'rajesh': {\n",
    "        'English': 90,\n",
    "        'Math': 79,\n",
    "        'Science': 68\n",
    "    },\n",
    "        'Suresh': {\n",
    "        'English': 50,\n",
    "        'Math': 54,\n",
    "        'Science': 71\n",
    "    },\n",
    "}"
   ]
  },
  {
   "cell_type": "code",
   "execution_count": 5,
   "metadata": {},
   "outputs": [
    {
     "name": "stdout",
     "output_type": "stream",
     "text": [
      "{'apple': 2, 'banana': 3, 'orange': 5}\n",
      "{'fruits': ['apple', 'banana', 'orange', 'grape'], 'vegetables': ['carrot', 'lettuce', 'onion'], 'dairy': ['milk', 'cheese', 'yogurt'], 'meat': None}\n",
      "{'rajesh': {'English': 90, 'Math': 79, 'Science': 68}, 'Suresh': {'English': 50, 'Math': 54, 'Science': 71}}\n"
     ]
    }
   ],
   "source": [
    "print(fruits)\n",
    "print(grocery)\n",
    "print(reports)"
   ]
  },
  {
   "cell_type": "code",
   "execution_count": 6,
   "metadata": {},
   "outputs": [],
   "source": [
    "from pprint import pp   # pretty print"
   ]
  },
  {
   "cell_type": "code",
   "execution_count": 7,
   "metadata": {},
   "outputs": [
    {
     "name": "stdout",
     "output_type": "stream",
     "text": [
      "{'apple': 2, 'banana': 3, 'orange': 5}\n",
      "{'fruits': ['apple', 'banana', 'orange', 'grape'],\n",
      " 'vegetables': ['carrot', 'lettuce', 'onion'],\n",
      " 'dairy': ['milk', 'cheese', 'yogurt'],\n",
      " 'meat': None}\n",
      "{'rajesh': {'English': 90, 'Math': 79, 'Science': 68},\n",
      " 'Suresh': {'English': 50, 'Math': 54, 'Science': 71}}\n"
     ]
    }
   ],
   "source": [
    "pp(fruits)\n",
    "pp(grocery)\n",
    "pp(reports)"
   ]
  },
  {
   "attachments": {},
   "cell_type": "markdown",
   "metadata": {},
   "source": [
    "- fetch\n",
    "- updating\n",
    "- adding\n",
    "- deleting"
   ]
  },
  {
   "cell_type": "code",
   "execution_count": 8,
   "metadata": {},
   "outputs": [
    {
     "data": {
      "text/plain": [
       "2"
      ]
     },
     "execution_count": 8,
     "metadata": {},
     "output_type": "execute_result"
    }
   ],
   "source": [
    "fruits['apple']   # retrieve 'value' from dictionary"
   ]
  },
  {
   "cell_type": "code",
   "execution_count": 9,
   "metadata": {},
   "outputs": [
    {
     "name": "stdout",
     "output_type": "stream",
     "text": [
      "{'apple': 10, 'banana': 3, 'orange': 5}\n"
     ]
    }
   ],
   "source": [
    "fruits['apple'] = 10    # update 'value' in dictionary\n",
    "pp(fruits)"
   ]
  },
  {
   "cell_type": "code",
   "execution_count": 10,
   "metadata": {},
   "outputs": [
    {
     "name": "stdout",
     "output_type": "stream",
     "text": [
      "{'apple': 10, 'banana': 3, 'orange': 5, 'mango': 25}\n"
     ]
    }
   ],
   "source": [
    "fruits['mango'] = 25    # add new 'key-value' pair in dictionary\n",
    "pp(fruits)"
   ]
  },
  {
   "cell_type": "code",
   "execution_count": 11,
   "metadata": {},
   "outputs": [
    {
     "name": "stdout",
     "output_type": "stream",
     "text": [
      "{'fruits': ['apple', 'banana', 'orange', 'grape'],\n",
      " 'vegetables': ['carrot', 'lettuce', 'onion'],\n",
      " 'dairy': ['milk', 'cheese', 'yogurt'],\n",
      " 'meat': None,\n",
      " 'spices': ['cumin', 'corinder', 'turmeric']}\n"
     ]
    }
   ],
   "source": [
    "grocery['spices'] = ['cumin','corinder','turmeric'] # add new key-value pair in dictionary\n",
    "pp(grocery)"
   ]
  },
  {
   "cell_type": "code",
   "execution_count": 12,
   "metadata": {},
   "outputs": [
    {
     "data": {
      "text/plain": [
       "list"
      ]
     },
     "execution_count": 12,
     "metadata": {},
     "output_type": "execute_result"
    }
   ],
   "source": [
    "type(grocery['fruits'])"
   ]
  },
  {
   "cell_type": "code",
   "execution_count": 13,
   "metadata": {},
   "outputs": [
    {
     "name": "stdout",
     "output_type": "stream",
     "text": [
      "{'fruits': ['apple', 'banana', 'orange', 'grape', 'mango'],\n",
      " 'vegetables': ['carrot', 'lettuce', 'onion'],\n",
      " 'dairy': ['milk', 'cheese', 'yogurt'],\n",
      " 'meat': None,\n",
      " 'spices': ['cumin', 'corinder', 'turmeric']}\n"
     ]
    }
   ],
   "source": [
    "grocery['fruits'].append('mango')   # add new value in the list\n",
    "pp(grocery)"
   ]
  },
  {
   "cell_type": "code",
   "execution_count": 14,
   "metadata": {},
   "outputs": [
    {
     "data": {
      "text/plain": [
       "{'English': 90, 'Math': 79, 'Science': 68}"
      ]
     },
     "execution_count": 14,
     "metadata": {},
     "output_type": "execute_result"
    }
   ],
   "source": [
    "reports['rajesh']"
   ]
  },
  {
   "cell_type": "code",
   "execution_count": 15,
   "metadata": {},
   "outputs": [
    {
     "name": "stdout",
     "output_type": "stream",
     "text": [
      "{'rajesh': {'English': 90, 'Math': 79, 'Science': 68, 'EVS': 99},\n",
      " 'Suresh': {'English': 50, 'Math': 54, 'Science': 71}}\n"
     ]
    }
   ],
   "source": [
    "reports['rajesh']['EVS'] = 99\n",
    "pp(reports)"
   ]
  },
  {
   "cell_type": "code",
   "execution_count": 16,
   "metadata": {},
   "outputs": [
    {
     "data": {
      "text/plain": [
       "3"
      ]
     },
     "execution_count": 16,
     "metadata": {},
     "output_type": "execute_result"
    }
   ],
   "source": [
    "fruits.pop('banana')    # remove 'key-value' pair from dictionary"
   ]
  },
  {
   "cell_type": "code",
   "execution_count": 17,
   "metadata": {},
   "outputs": [
    {
     "data": {
      "text/plain": [
       "{'English': 90, 'Math': 79, 'Science': 68, 'EVS': 99}"
      ]
     },
     "execution_count": 17,
     "metadata": {},
     "output_type": "execute_result"
    }
   ],
   "source": [
    "reports.pop('rajesh')   # remove 'key-value' pair from dictionary"
   ]
  },
  {
   "cell_type": "code",
   "execution_count": 18,
   "metadata": {},
   "outputs": [
    {
     "data": {
      "text/plain": [
       "{'Suresh': {'English': 50, 'Math': 54, 'Science': 71}}"
      ]
     },
     "execution_count": 18,
     "metadata": {},
     "output_type": "execute_result"
    }
   ],
   "source": [
    "reports"
   ]
  },
  {
   "cell_type": "code",
   "execution_count": 20,
   "metadata": {},
   "outputs": [
    {
     "name": "stdout",
     "output_type": "stream",
     "text": [
      "{'fruits': ['apple', 'banana', 'orange', 'grape', 'mango'],\n",
      " 'vegetables': ['carrot', 'lettuce', 'onion'],\n",
      " 'dairy': ['milk', 'cheese', 'yogurt'],\n",
      " 'meat': None,\n",
      " 'spices': ['cumin', 'corinder', 'turmeric']}\n"
     ]
    }
   ],
   "source": [
    "pp(grocery)"
   ]
  },
  {
   "cell_type": "code",
   "execution_count": 22,
   "metadata": {},
   "outputs": [],
   "source": [
    "grocery['vegetables'].remove('onion')        # remove 'value' from the list"
   ]
  },
  {
   "cell_type": "code",
   "execution_count": 23,
   "metadata": {},
   "outputs": [
    {
     "data": {
      "text/plain": [
       "dict_keys(['apple', 'orange', 'mango'])"
      ]
     },
     "execution_count": 23,
     "metadata": {},
     "output_type": "execute_result"
    }
   ],
   "source": [
    "fruits.keys()       # get all 'keys' from dictionary"
   ]
  },
  {
   "cell_type": "code",
   "execution_count": 24,
   "metadata": {},
   "outputs": [
    {
     "data": {
      "text/plain": [
       "dict_values([10, 5, 25])"
      ]
     },
     "execution_count": 24,
     "metadata": {},
     "output_type": "execute_result"
    }
   ],
   "source": [
    "fruits.values()     # get all 'values' from dictionary"
   ]
  },
  {
   "cell_type": "code",
   "execution_count": 25,
   "metadata": {},
   "outputs": [
    {
     "data": {
      "text/plain": [
       "dict_items([('apple', 10), ('orange', 5), ('mango', 25)])"
      ]
     },
     "execution_count": 25,
     "metadata": {},
     "output_type": "execute_result"
    }
   ],
   "source": [
    "fruits.items()      # get all key-value pairs from dictionary"
   ]
  },
  {
   "cell_type": "code",
   "execution_count": 27,
   "metadata": {},
   "outputs": [
    {
     "name": "stdout",
     "output_type": "stream",
     "text": [
      "apple 10\n",
      "orange 5\n",
      "mango 25\n"
     ]
    }
   ],
   "source": [
    "# Traversal\n",
    "for k,v in fruits.items():\n",
    "    print(k,v)"
   ]
  },
  {
   "cell_type": "code",
   "execution_count": 28,
   "metadata": {},
   "outputs": [
    {
     "data": {
      "text/plain": [
       "50"
      ]
     },
     "execution_count": 28,
     "metadata": {},
     "output_type": "execute_result"
    }
   ],
   "source": [
    "reports['Suresh']['English']"
   ]
  },
  {
   "cell_type": "code",
   "execution_count": 34,
   "metadata": {},
   "outputs": [
    {
     "data": {
      "text/plain": [
       "{'English': 50, 'Math': 54, 'Science': 71}"
      ]
     },
     "execution_count": 34,
     "metadata": {},
     "output_type": "execute_result"
    }
   ],
   "source": [
    "# for avoding 'key' errors\n",
    "reports.get('Suresh')"
   ]
  },
  {
   "cell_type": "code",
   "execution_count": 30,
   "metadata": {},
   "outputs": [],
   "source": [
    "reports.get('ramesh')"
   ]
  },
  {
   "cell_type": "code",
   "execution_count": 32,
   "metadata": {},
   "outputs": [
    {
     "data": {
      "text/plain": [
       "' ye student kabhi aya hi nhi'"
      ]
     },
     "execution_count": 32,
     "metadata": {},
     "output_type": "execute_result"
    }
   ],
   "source": [
    "reports.get('ramesh', ' ye student kabhi aya hi nhi')"
   ]
  },
  {
   "cell_type": "code",
   "execution_count": 35,
   "metadata": {},
   "outputs": [
    {
     "data": {
      "text/plain": [
       "{'English': 50, 'Math': 54, 'Science': 71}"
      ]
     },
     "execution_count": 35,
     "metadata": {},
     "output_type": "execute_result"
    }
   ],
   "source": [
    "reports.get('Suresh', ' ye student kabhi aya hi nhi')"
   ]
  },
  {
   "cell_type": "code",
   "execution_count": 37,
   "metadata": {},
   "outputs": [
    {
     "name": "stdout",
     "output_type": "stream",
     "text": [
      "{'Suresh': {'English': 50, 'Math': 54, 'Science': 71},\n",
      " 'sunita': {'English': 90, 'Math': 80, 'Science': 70}}\n"
     ]
    }
   ],
   "source": [
    "reports['sunita'] = {\n",
    "    'English':90,\n",
    "    'Math': 80,\n",
    "    'Science':70\n",
    "}\n",
    "\n",
    "pp(reports)"
   ]
  },
  {
   "cell_type": "code",
   "execution_count": 39,
   "metadata": {},
   "outputs": [
    {
     "name": "stdout",
     "output_type": "stream",
     "text": [
      "Suresh\n",
      "50 in English\n",
      "54 in Math\n",
      "71 in Science\n",
      "------------------------------\n",
      "sunita\n",
      "90 in English\n",
      "80 in Math\n",
      "70 in Science\n",
      "------------------------------\n"
     ]
    }
   ],
   "source": [
    "for student, details in reports.items():\n",
    "    print(student)\n",
    "    for subject, marks in details.items():\n",
    "        print(f'{marks} in {subject}')\n",
    "    print('---'*10)"
   ]
  },
  {
   "attachments": {},
   "cell_type": "markdown",
   "metadata": {},
   "source": [
    "# create a dictionary of 5 employee with details\n",
    "    - name : str\n",
    "    - department : str\n",
    "    - salary : int\n",
    "    - skills : list\n",
    "    - projects : dict\n",
    "        - project_name : str\n",
    "        - project_duration : int\n",
    "        - project_technologies : list"
   ]
  },
  {
   "cell_type": "code",
   "execution_count": 46,
   "metadata": {},
   "outputs": [
    {
     "name": "stdout",
     "output_type": "stream",
     "text": [
      "{'e1': {'name': 'Alex',\n",
      "        'department': 'HR',\n",
      "        'salary': 10000,\n",
      "        'skills': ['communication', 'management'],\n",
      "        'project': {'project1': {'project_name': 'HRMS',\n",
      "                                 'project_duration': 6,\n",
      "                                 'project_technology': ['excel',\n",
      "                                                        'power bi',\n",
      "                                                        'powerpoint']}}},\n",
      " 'e2': {'name': 'Alice',\n",
      "        'department': 'support',\n",
      "        'salary': 20000,\n",
      "        'skills': ['effective communication & management'],\n",
      "        'project': {'project1': {'project_name': 'DBMS',\n",
      "                                 'project_duration': 7,\n",
      "                                 'project_technology': ['excel',\n",
      "                                                        'Word',\n",
      "                                                        'powerpoint']}}},\n",
      " 'e3': {'name': 'James',\n",
      "        'department': 'technical',\n",
      "        'salary': 40000,\n",
      "        'skills': ['java, react, nodeJS'],\n",
      "        'project': {'project1': {'project_name': 'RND',\n",
      "                                 'project_duration': 8,\n",
      "                                 'project_technology': ['excel', 'Word']}}}}\n"
     ]
    }
   ],
   "source": [
    "emps = {\n",
    "    'e1': {\n",
    "        'name' : 'Alex',\n",
    "        'department' : 'HR',\n",
    "        'salary' : 10000,\n",
    "        'skills' : ['communication', 'management'],\n",
    "        'project' : {\n",
    "                'project1':{\n",
    "            'project_name' : 'HRMS',\n",
    "            'project_duration' : 6,\n",
    "            'project_technology' : ['excel', 'power bi', 'powerpoint']\n",
    "             }\n",
    "        }  \n",
    "    },\n",
    "    'e2': {\n",
    "        'name' : 'Alice',\n",
    "        'department' : 'support',\n",
    "        'salary' : 20000,\n",
    "        'skills' : ['effective communication & management'],\n",
    "        'project' : {\n",
    "                'project1':{\n",
    "            'project_name' : 'DBMS',\n",
    "            'project_duration' : 7,\n",
    "            'project_technology' : ['excel', 'Word', 'powerpoint']\n",
    "             }\n",
    "        }  \n",
    "    },\n",
    "    'e3': {\n",
    "        'name' : 'James',\n",
    "        'department' : 'technical',\n",
    "        'salary' : 40000,\n",
    "        'skills' : ['java, react, nodeJS'],\n",
    "        'project' : {\n",
    "                'project1':{\n",
    "            'project_name' : 'RND',\n",
    "            'project_duration' : 8,\n",
    "            'project_technology' : ['excel', 'Word']\n",
    "             }\n",
    "        }  \n",
    "\n",
    "    }\n",
    "}\n",
    "\n",
    "'''print(emps['e1'])\n",
    "   print(emps['e2'])\n",
    "   print(emps['e3'])'''\n",
    "\n",
    "pp(emps)"
   ]
  }
 ],
 "metadata": {
  "kernelspec": {
   "display_name": "base",
   "language": "python",
   "name": "python3"
  },
  "language_info": {
   "codemirror_mode": {
    "name": "ipython",
    "version": 3
   },
   "file_extension": ".py",
   "mimetype": "text/x-python",
   "name": "python",
   "nbconvert_exporter": "python",
   "pygments_lexer": "ipython3",
   "version": "3.10.10"
  },
  "orig_nbformat": 4
 },
 "nbformat": 4,
 "nbformat_minor": 2
}
