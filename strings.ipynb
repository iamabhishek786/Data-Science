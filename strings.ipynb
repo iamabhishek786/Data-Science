{
 "cells": [
  {
   "cell_type": "code",
   "execution_count": 4,
   "metadata": {},
   "outputs": [
    {
     "name": "stdout",
     "output_type": "stream",
     "text": [
      "this is a \n",
      "unicode string\n",
      "this is a \\nraw string\n"
     ]
    }
   ],
   "source": [
    "#STRING -  Create, indexing, slicing, methods\n",
    "\n",
    "\n",
    "a = 'this is a string'  # Enclosed within single quotes\n",
    "b = \"this is another string\"    # Enclosed within double quotes\n",
    "c = '''this is a string with multiple               \n",
    "lines which can be written'''   # Enclosed within single triple quotes\n",
    "d = b'this is a byte string'    # byte string\n",
    "e = u'this is a \\nunicode string' # unicode string\n",
    "f = r'this is a \\nraw string' # raw string\n",
    "\n",
    "print(e)\n",
    "print(f)"
   ]
  },
  {
   "cell_type": "code",
   "execution_count": 5,
   "metadata": {},
   "outputs": [
    {
     "name": "stdout",
     "output_type": "stream",
     "text": [
      "C:\\Users\\abhis\\Downloads\\Digipodium.DSWP\n"
     ]
    }
   ],
   "source": [
    "path= r'C:\\Users\\abhis\\Downloads\\Digipodium.DSWP'\n",
    "print(path)"
   ]
  },
  {
   "cell_type": "code",
   "execution_count": 6,
   "metadata": {},
   "outputs": [
    {
     "name": "stdout",
     "output_type": "stream",
     "text": [
      "10\n"
     ]
    }
   ],
   "source": [
    "x=10\n",
    "x=str(x) # converted to string\n",
    "print(x)"
   ]
  },
  {
   "cell_type": "code",
   "execution_count": 4,
   "metadata": {},
   "outputs": [
    {
     "name": "stdout",
     "output_type": "stream",
     "text": [
      "str=  digipodium\n",
      "str[0] =  d\n",
      "str[1] =  i\n",
      "str[-1] =  m\n",
      "str[-2] =  u\n"
     ]
    }
   ],
   "source": [
    "#Accessing string characters in python\n",
    "str = 'digipodium'\n",
    "print('str= ', str)\n",
    "\n",
    "#first character\n",
    "print('str[0] = ', str[0])\n",
    "\n",
    "#second character\n",
    "print('str[1] = ', str[1])\n",
    "\n",
    "#last character\n",
    "print('str[-1] = ', str[-1])\n",
    "\n",
    "\n",
    "#second last character\n",
    "print('str[-2] = ', str[-2])\n",
    "\n"
   ]
  },
  {
   "cell_type": "code",
   "execution_count": 5,
   "metadata": {},
   "outputs": [
    {
     "name": "stdout",
     "output_type": "stream",
     "text": [
      "pod\n"
     ]
    }
   ],
   "source": [
    "#getting a slice from a string\n",
    "s='digipodium'\n",
    "slice1 = s[4:7]\n",
    "print(slice1)"
   ]
  },
  {
   "cell_type": "code",
   "execution_count": 6,
   "metadata": {},
   "outputs": [
    {
     "name": "stdout",
     "output_type": "stream",
     "text": [
      "vijay\n"
     ]
    }
   ],
   "source": [
    "# Extracting a substring from a string\n",
    "name='vijay deenanath chauhan'\n",
    "slice2 = name[0:5]     # or slice2 = name[:5]\n",
    "print(slice2)"
   ]
  },
  {
   "cell_type": "code",
   "execution_count": 7,
   "metadata": {},
   "outputs": [
    {
     "name": "stdout",
     "output_type": "stream",
     "text": [
      "chauhan\n"
     ]
    }
   ],
   "source": [
    "slice3 = name[-7:]  # last 7 characters\n",
    "print(slice3)"
   ]
  },
  {
   "cell_type": "code",
   "execution_count": 8,
   "metadata": {},
   "outputs": [
    {
     "data": {
      "text/plain": [
       "23"
      ]
     },
     "execution_count": 8,
     "metadata": {},
     "output_type": "execute_result"
    }
   ],
   "source": [
    "#for calculating a length of the string\n",
    "len(name)"
   ]
  },
  {
   "cell_type": "code",
   "execution_count": 9,
   "metadata": {},
   "outputs": [
    {
     "data": {
      "text/plain": [
       "'vjydeaahcahn'"
      ]
     },
     "execution_count": 9,
     "metadata": {},
     "output_type": "execute_result"
    }
   ],
   "source": [
    "name[::2]       #Every second character"
   ]
  },
  {
   "cell_type": "code",
   "execution_count": 10,
   "metadata": {},
   "outputs": [
    {
     "data": {
      "text/plain": [
       "'nahuahc htananeed yajiv'"
      ]
     },
     "execution_count": 10,
     "metadata": {},
     "output_type": "execute_result"
    }
   ],
   "source": [
    "name[::-1]  # Reversing a string"
   ]
  },
  {
   "attachments": {},
   "cell_type": "markdown",
   "metadata": {},
   "source": [
    "String methods\n",
    "    -validation methods (gives the ouput in form of True/false)\n",
    "        -isalpha\n",
    "        -isnumeric\n",
    "        -isalnum\n",
    "        -isspace\n",
    "        -isupper\n",
    "        -islower\n",
    "        -istitle\n",
    "        -startswith\n",
    "        -endswith\n",
    "    -formattting methods (helps in changing the output)\n",
    "        -upper\n",
    "        -lower\n",
    "        -title\n",
    "        -swapcase\n",
    "        -capitalize\n",
    "        -casefold\n",
    "    -utility methods\n",
    "        -count\n",
    "        -find\n",
    "        -replace\n",
    "        -split\n",
    "        -join\n",
    "        -strip"
   ]
  },
  {
   "cell_type": "code",
   "execution_count": 11,
   "metadata": {},
   "outputs": [
    {
     "name": "stdout",
     "output_type": "stream",
     "text": [
      "<class 'int'>\n"
     ]
    }
   ],
   "source": [
    "x= int(input('Enter a number: '))     #can not convert a character to ASCII values\n",
    "print(type(x))"
   ]
  },
  {
   "cell_type": "code",
   "execution_count": 12,
   "metadata": {},
   "outputs": [
    {
     "name": "stdout",
     "output_type": "stream",
     "text": [
      "50\n"
     ]
    }
   ],
   "source": [
    "x= input('Enter a number: ')\n",
    "if x.isnumeric():\n",
    "    x= int(x)\n",
    "    print(x)\n",
    "else:\n",
    "    print('Invalid input')"
   ]
  },
  {
   "cell_type": "code",
   "execution_count": 13,
   "metadata": {},
   "outputs": [
    {
     "name": "stdout",
     "output_type": "stream",
     "text": [
      "hello Abhishek\n"
     ]
    }
   ],
   "source": [
    "uname = input('Enter your name')\n",
    "if uname.isalnum():\n",
    "    print('hello', uname)\n",
    "else:\n",
    "    print('Invalid input')"
   ]
  },
  {
   "cell_type": "code",
   "execution_count": 14,
   "metadata": {},
   "outputs": [
    {
     "name": "stdout",
     "output_type": "stream",
     "text": [
      "not so special\n"
     ]
    }
   ],
   "source": [
    "if not uname.isalnum():\n",
    "    print('must be some special characters')\n",
    "else:\n",
    "    print('not so special')"
   ]
  },
  {
   "cell_type": "code",
   "execution_count": 15,
   "metadata": {},
   "outputs": [
    {
     "name": "stdout",
     "output_type": "stream",
     "text": [
      "welcome Mr. Anand\n",
      "welcome Mrs. Vijay\n",
      "welcome Mrs. Ravi\n",
      "You are noe allowed Er. Rajesh\n",
      "welcome Mr. Ramesh\n"
     ]
    }
   ],
   "source": [
    "names = ['Mr. Anand', 'Mrs. Vijay', 'Mrs. Ravi', 'Er. Rajesh', 'Mr. Ramesh']\n",
    "for name in names:\n",
    "    if name.startswith('Mr.') or name.startswith('Mrs.'):\n",
    "        print(f'welcome {name}')\n",
    "    else:\n",
    "        print(f'You are noe allowed {name}')"
   ]
  },
  {
   "cell_type": "code",
   "execution_count": 16,
   "metadata": {},
   "outputs": [
    {
     "name": "stdout",
     "output_type": "stream",
     "text": [
      "abc.text   text file\n",
      "xyz.doc    unknown file type\n",
      "pqr.py     python file\n",
      "mno.py     python file\n",
      "def.text   text file\n"
     ]
    }
   ],
   "source": [
    "files = ['abc.text', 'xyz.doc', 'pqr.py', 'mno.py', 'def.text']\n",
    "for item in files:\n",
    "    if item.endswith('.text'):\n",
    "        print(f'{item:10} text file')   #':10' is used for alignment\n",
    "    elif item.endswith('.py'):\n",
    "        print(f'{item:10} python file')\n",
    "    else:\n",
    "        print(f'{item:10} unknown file type')\n"
   ]
  },
  {
   "cell_type": "code",
   "execution_count": 17,
   "metadata": {},
   "outputs": [
    {
     "name": "stdout",
     "output_type": "stream",
     "text": [
      "JOURNEY BEFORE DESTINATION\n",
      "journey before destination\n",
      "Journey Before Destination\n",
      "Journey before destination\n",
      "jOURNEY bEFORE dESTINATION\n",
      "journey before destination\n"
     ]
    }
   ],
   "source": [
    "name = 'Journey Before Destination'\n",
    "print(name.upper())\n",
    "print(name.lower())\n",
    "print(name.title())\n",
    "print(name.capitalize())\n",
    "print(name.swapcase())\n",
    "print(name.casefold())"
   ]
  },
  {
   "cell_type": "code",
   "execution_count": 18,
   "metadata": {},
   "outputs": [
    {
     "name": "stdout",
     "output_type": "stream",
     "text": [
      "journey before destination\n"
     ]
    }
   ],
   "source": [
    "name = name.lower()\n",
    "print(name)"
   ]
  },
  {
   "cell_type": "code",
   "execution_count": 19,
   "metadata": {},
   "outputs": [
    {
     "name": "stdout",
     "output_type": "stream",
     "text": [
      "4\n",
      "4\n"
     ]
    }
   ],
   "source": [
    "s=' this is an example string, this is a simple string'\n",
    "print(s.count('is'))  # 'is' as a sequence is taken not a 'word'\n",
    "print(s.count('t'))"
   ]
  },
  {
   "cell_type": "code",
   "execution_count": 20,
   "metadata": {},
   "outputs": [
    {
     "name": "stdout",
     "output_type": "stream",
     "text": [
      "13\n"
     ]
    }
   ],
   "source": [
    "# total vowels\n",
    "tv = s.count('a')+s.count('e')+s.count('i')+s.count('o')+s.count('u')\n",
    "print(tv)"
   ]
  },
  {
   "cell_type": "code",
   "execution_count": 21,
   "metadata": {},
   "outputs": [
    {
     "name": "stdout",
     "output_type": "stream",
     "text": [
      "12\n",
      "3\n",
      "3\n",
      "6\n"
     ]
    }
   ],
   "source": [
    "print(s.find('example'))\n",
    "print(s.find('is'))\n",
    "print(s.find('is', 3))  #start searching from index 3\n",
    "print(s.find('is', 6))\n",
    "# rfind() is used for reverse searching"
   ]
  },
  {
   "cell_type": "code",
   "execution_count": 22,
   "metadata": {},
   "outputs": [
    {
     "data": {
      "text/plain": [
       "' thwas was an example string, thwas was a simple string'"
      ]
     },
     "execution_count": 22,
     "metadata": {},
     "output_type": "execute_result"
    }
   ],
   "source": [
    "s.replace('is', 'was')"
   ]
  },
  {
   "cell_type": "code",
   "execution_count": 23,
   "metadata": {},
   "outputs": [
    {
     "data": {
      "text/plain": [
       "' this is an example , this is a simple '"
      ]
     },
     "execution_count": 23,
     "metadata": {},
     "output_type": "execute_result"
    }
   ],
   "source": [
    "# removal of a word using 'replace'\n",
    "s.replace('string', '')"
   ]
  },
  {
   "cell_type": "code",
   "execution_count": 24,
   "metadata": {},
   "outputs": [
    {
     "data": {
      "text/plain": [
       "' this was an example string, this was a simple string'"
      ]
     },
     "execution_count": 24,
     "metadata": {},
     "output_type": "execute_result"
    }
   ],
   "source": [
    "# does not work with last words , just  a trick\n",
    "s.replace(' is ', ' was ')"
   ]
  },
  {
   "cell_type": "code",
   "execution_count": 25,
   "metadata": {},
   "outputs": [
    {
     "name": "stdout",
     "output_type": "stream",
     "text": [
      "['this', 'is', 'an', 'example', 'string,', 'this', 'is', 'a', 'simple', 'string']\n"
     ]
    }
   ],
   "source": [
    "words = s.split()\n",
    "print(words)"
   ]
  },
  {
   "cell_type": "code",
   "execution_count": 26,
   "metadata": {},
   "outputs": [
    {
     "data": {
      "text/plain": [
       "[' this is an example string', ' this is a simple string']"
      ]
     },
     "execution_count": 26,
     "metadata": {},
     "output_type": "execute_result"
    }
   ],
   "source": [
    "s.split(',')"
   ]
  },
  {
   "cell_type": "code",
   "execution_count": 27,
   "metadata": {},
   "outputs": [
    {
     "data": {
      "text/plain": [
       "'one_Two_Three_Four_Five'"
      ]
     },
     "execution_count": 27,
     "metadata": {},
     "output_type": "execute_result"
    }
   ],
   "source": [
    "words = ['one', 'Two', 'Three', 'Four', 'Five']\n",
    "\"_\".join(words)"
   ]
  },
  {
   "cell_type": "code",
   "execution_count": 28,
   "metadata": {},
   "outputs": [
    {
     "name": "stdout",
     "output_type": "stream",
     "text": [
      "  Abhishek        \n",
      "Abhishek\n"
     ]
    }
   ],
   "source": [
    "# for removing extra space\n",
    "x = '  Abhishek        '\n",
    "print(x)\n",
    "print(x.strip())"
   ]
  },
  {
   "cell_type": "code",
   "execution_count": 29,
   "metadata": {},
   "outputs": [
    {
     "name": "stdout",
     "output_type": "stream",
     "text": [
      "  Abhishek\n",
      "\n",
      "\n",
      "       \n",
      "Abhishek\n"
     ]
    }
   ],
   "source": [
    "# for removing extra space, does not work if '\\n' is in the middle but is allowed in the starting & end\n",
    "x = '  Abhishek\\n\\n\\n       '\n",
    "print(x)\n",
    "print(x.strip())"
   ]
  }
 ],
 "metadata": {
  "kernelspec": {
   "display_name": "base",
   "language": "python",
   "name": "python3"
  },
  "language_info": {
   "codemirror_mode": {
    "name": "ipython",
    "version": 3
   },
   "file_extension": ".py",
   "mimetype": "text/x-python",
   "name": "python",
   "nbconvert_exporter": "python",
   "pygments_lexer": "ipython3",
   "version": "3.10.10"
  },
  "orig_nbformat": 4
 },
 "nbformat": 4,
 "nbformat_minor": 2
}
