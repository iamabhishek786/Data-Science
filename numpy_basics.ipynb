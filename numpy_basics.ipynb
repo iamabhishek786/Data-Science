{
 "cells": [
  {
   "cell_type": "code",
   "execution_count": 2,
   "metadata": {},
   "outputs": [],
   "source": [
    "import numpy as np"
   ]
  },
  {
   "cell_type": "code",
   "execution_count": 3,
   "metadata": {},
   "outputs": [
    {
     "name": "stdout",
     "output_type": "stream",
     "text": [
      "[1 2 3]\n",
      "(3,)\n",
      "[[1 2 3]\n",
      " [4 5 6]]\n",
      "(2, 3)\n"
     ]
    }
   ],
   "source": [
    "a= np.array([1,2,3])\n",
    "print(a)\n",
    "print(a.shape)\n",
    "b = np.array([\n",
    "    [1,2,3],\n",
    "    [4,5,6]\n",
    "    ])\n",
    "print(b)\n",
    "print(b.shape)"
   ]
  },
  {
   "cell_type": "code",
   "execution_count": 4,
   "metadata": {},
   "outputs": [
    {
     "name": "stdout",
     "output_type": "stream",
     "text": [
      "[1.  1.2 1.4 1.6 1.8 2.  2.2 2.4 2.6 2.8 3.  3.2 3.4 3.6 3.8 4.  4.2 4.4\n",
      " 4.6 4.8 5.  5.2 5.4 5.6 5.8 6.  6.2 6.4 6.6 6.8 7.  7.2 7.4 7.6 7.8 8.\n",
      " 8.2 8.4 8.6 8.8 9.  9.2 9.4 9.6 9.8]\n",
      "(45,)\n",
      "[ 1.          1.18367347  1.36734694  1.55102041  1.73469388  1.91836735\n",
      "  2.10204082  2.28571429  2.46938776  2.65306122  2.83673469  3.02040816\n",
      "  3.20408163  3.3877551   3.57142857  3.75510204  3.93877551  4.12244898\n",
      "  4.30612245  4.48979592  4.67346939  4.85714286  5.04081633  5.2244898\n",
      "  5.40816327  5.59183673  5.7755102   5.95918367  6.14285714  6.32653061\n",
      "  6.51020408  6.69387755  6.87755102  7.06122449  7.24489796  7.42857143\n",
      "  7.6122449   7.79591837  7.97959184  8.16326531  8.34693878  8.53061224\n",
      "  8.71428571  8.89795918  9.08163265  9.26530612  9.44897959  9.63265306\n",
      "  9.81632653 10.        ]\n"
     ]
    }
   ],
   "source": [
    "c= np.arange(1, 10, .2) # start, end, step\n",
    "print(c)\n",
    "print(c.shape)\n",
    "d= np.linspace(1, 10, 50)   # start, end, number of elements\n",
    "print(d)"
   ]
  },
  {
   "cell_type": "code",
   "execution_count": 5,
   "metadata": {},
   "outputs": [
    {
     "name": "stdout",
     "output_type": "stream",
     "text": [
      "1\n",
      "1\n",
      "2\n"
     ]
    }
   ],
   "source": [
    "# For finding out the dimension of an array\n",
    "print(c.ndim)   \n",
    "print(d.ndim)\n",
    "print(b.ndim)"
   ]
  },
  {
   "cell_type": "code",
   "execution_count": 6,
   "metadata": {},
   "outputs": [
    {
     "name": "stdout",
     "output_type": "stream",
     "text": [
      "[[1.  1.2 1.4 1.6 1.8]\n",
      " [2.  2.2 2.4 2.6 2.8]\n",
      " [3.  3.2 3.4 3.6 3.8]\n",
      " [4.  4.2 4.4 4.6 4.8]\n",
      " [5.  5.2 5.4 5.6 5.8]\n",
      " [6.  6.2 6.4 6.6 6.8]\n",
      " [7.  7.2 7.4 7.6 7.8]\n",
      " [8.  8.2 8.4 8.6 8.8]\n",
      " [9.  9.2 9.4 9.6 9.8]]\n"
     ]
    }
   ],
   "source": [
    "print(c.reshape(9,5))"
   ]
  },
  {
   "cell_type": "code",
   "execution_count": 7,
   "metadata": {},
   "outputs": [
    {
     "name": "stdout",
     "output_type": "stream",
     "text": [
      "[[[1.  1.2 1.4 1.6 1.8]\n",
      "  [2.  2.2 2.4 2.6 2.8]\n",
      "  [3.  3.2 3.4 3.6 3.8]]\n",
      "\n",
      " [[4.  4.2 4.4 4.6 4.8]\n",
      "  [5.  5.2 5.4 5.6 5.8]\n",
      "  [6.  6.2 6.4 6.6 6.8]]\n",
      "\n",
      " [[7.  7.2 7.4 7.6 7.8]\n",
      "  [8.  8.2 8.4 8.6 8.8]\n",
      "  [9.  9.2 9.4 9.6 9.8]]]\n",
      "1\n"
     ]
    }
   ],
   "source": [
    "print(c.reshape(3, 3, 5))\n",
    "print(c.ndim)"
   ]
  },
  {
   "cell_type": "code",
   "execution_count": 8,
   "metadata": {},
   "outputs": [
    {
     "data": {
      "text/plain": [
       "array([[  6, 390, 884],\n",
       "       [408,  60,  84],\n",
       "       [524, 604, 773]])"
      ]
     },
     "execution_count": 8,
     "metadata": {},
     "output_type": "execute_result"
    }
   ],
   "source": [
    "np.random.randint(1, 1000, (3,3))   # (3,3) is the tuple"
   ]
  },
  {
   "attachments": {},
   "cell_type": "markdown",
   "metadata": {},
   "source": [
    "- Maths in numpy"
   ]
  },
  {
   "cell_type": "code",
   "execution_count": 9,
   "metadata": {},
   "outputs": [],
   "source": [
    "x = np.array([\n",
    "    [2,3,4],\n",
    "    [5,6,7]\n",
    "])\n",
    "y = np.array([\n",
    "    [1,2,3],\n",
    "    [4,7,9]\n",
    "])"
   ]
  },
  {
   "cell_type": "code",
   "execution_count": 10,
   "metadata": {},
   "outputs": [
    {
     "name": "stdout",
     "output_type": "stream",
     "text": [
      "[[ 3  5  7]\n",
      " [ 9 13 16]]\n",
      "[[ 1  1  1]\n",
      " [ 1 -1 -2]]\n",
      "[[ 2  6 12]\n",
      " [20 42 63]]\n",
      "[[2.         1.5        1.33333333]\n",
      " [1.25       0.85714286 0.77777778]]\n",
      "[[       2        9       64]\n",
      " [     625   279936 40353607]]\n",
      "[[0 1 1]\n",
      " [1 6 7]]\n"
     ]
    }
   ],
   "source": [
    "print(x + y)\n",
    "print(x - y)\n",
    "print(x * y)\n",
    "print(x / y)\n",
    "print(x ** y)\n",
    "print(x % y)"
   ]
  },
  {
   "cell_type": "code",
   "execution_count": 11,
   "metadata": {},
   "outputs": [
    {
     "name": "stdout",
     "output_type": "stream",
     "text": [
      "[[ 4  6  8]\n",
      " [10 12 14]]\n",
      "[[1.  1.5 2. ]\n",
      " [2.5 3.  3.5]]\n",
      "[[ 4  9 16]\n",
      " [25 36 49]]\n",
      "[[0 1 0]\n",
      " [1 0 1]]\n"
     ]
    }
   ],
   "source": [
    "print(x * 2)    # scalar multiplication\n",
    "print(x / 2)    # scalar division\n",
    "print(x ** 2)   # scalar\n",
    "print(x % 2)    # scalar modulus"
   ]
  },
  {
   "cell_type": "code",
   "execution_count": 12,
   "metadata": {},
   "outputs": [
    {
     "name": "stdout",
     "output_type": "stream",
     "text": [
      "[[ 20  65]\n",
      " [ 38 125]]\n",
      "[[ 20  65]\n",
      " [ 38 125]]\n",
      "[[ 20  65]\n",
      " [ 38 125]]\n"
     ]
    }
   ],
   "source": [
    "# matrix multiplication (many ways are possible for the same result)\n",
    "print(x.dot(y.T))   # '.T' is for transposition\n",
    "print(np.matmul(x,y.T))\n",
    "print(x @ y.T)"
   ]
  },
  {
   "cell_type": "code",
   "execution_count": 13,
   "metadata": {},
   "outputs": [
    {
     "name": "stdout",
     "output_type": "stream",
     "text": [
      "27\n",
      "[ 7  9 11]\n",
      "[ 9 18]\n",
      "4.5\n",
      "1.707825127659933\n",
      "2\n",
      "7\n",
      "5\n",
      "0\n"
     ]
    }
   ],
   "source": [
    "# statistical functions\n",
    "print(x.sum())  # sum of all elements\n",
    "print(x.sum(axis=0))    # sum of columns\n",
    "print(x.sum(axis=1))    # sum of rows\n",
    "print(x.mean()) # mean of all elements\n",
    "print(x.std())  # standard deviation of all elements\n",
    "print(x.min())  # minimum of all elements\n",
    "print(x.max())  # maximum of all elements\n",
    "print(x.argmax())   # index of maximum element\n",
    "print(x.argmin())   # index of minimum element"
   ]
  },
  {
   "cell_type": "code",
   "execution_count": 14,
   "metadata": {},
   "outputs": [
    {
     "name": "stdout",
     "output_type": "stream",
     "text": [
      "[[ 0.90929743  0.14112001 -0.7568025 ]\n",
      " [-0.95892427 -0.2794155   0.6569866 ]]\n",
      "[[-0.41614684 -0.9899925  -0.65364362]\n",
      " [ 0.28366219  0.96017029  0.75390225]]\n",
      "[[-2.18503986 -0.14254654  1.15782128]\n",
      " [-3.38051501 -0.29100619  0.87144798]]\n",
      "[[nan nan nan]\n",
      " [nan nan nan]]\n"
     ]
    },
    {
     "name": "stderr",
     "output_type": "stream",
     "text": [
      "C:\\Users\\abhis\\AppData\\Local\\Temp\\ipykernel_28560\\60929417.py:5: RuntimeWarning: invalid value encountered in arcsin\n",
      "  print(np.arcsin(x)) # inverse sin\n"
     ]
    }
   ],
   "source": [
    "# Trigonometric functions\n",
    "print(np.sin(x))\n",
    "print(np.cos(x))\n",
    "print(np.tan(x))\n",
    "print(np.arcsin(x)) # inverse sin\n"
   ]
  },
  {
   "cell_type": "code",
   "execution_count": 15,
   "metadata": {},
   "outputs": [
    {
     "name": "stdout",
     "output_type": "stream",
     "text": [
      "2\n",
      "[2 3 4]\n",
      "[2 5]\n",
      "[[2 3]\n",
      " [5 6]]\n",
      "[[2 3 4]\n",
      " [5 6 7]]\n"
     ]
    }
   ],
   "source": [
    "# indexing and slicing\n",
    "print(x[0, 0])  # first row, first column\n",
    "print(x[0, :])  # first row, all columns\n",
    "print(x[:, 0])  # all rows, first column\n",
    "print(x[:2, :2])    #   first two rows, first two columns\n",
    "print(x[:2])    #   first two rows, all columns"
   ]
  }
 ],
 "metadata": {
  "kernelspec": {
   "display_name": "base",
   "language": "python",
   "name": "python3"
  },
  "language_info": {
   "codemirror_mode": {
    "name": "ipython",
    "version": 3
   },
   "file_extension": ".py",
   "mimetype": "text/x-python",
   "name": "python",
   "nbconvert_exporter": "python",
   "pygments_lexer": "ipython3",
   "version": "3.10.10"
  },
  "orig_nbformat": 4
 },
 "nbformat": 4,
 "nbformat_minor": 2
}
