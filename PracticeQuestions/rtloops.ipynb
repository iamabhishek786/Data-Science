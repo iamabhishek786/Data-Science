{
 "cells": [
  {
   "cell_type": "code",
   "execution_count": 1,
   "metadata": {},
   "outputs": [
    {
     "name": "stdout",
     "output_type": "stream",
     "text": [
      "0,1,2,3,4,5,6,7,8,9,10,"
     ]
    }
   ],
   "source": [
    "#Write a program to print numbers from 1 to 10 using a for loop.\n",
    "\n",
    "for i in range(0,11):\n",
    "    print(i, end=',')"
   ]
  },
  {
   "cell_type": "code",
   "execution_count": 2,
   "metadata": {},
   "outputs": [
    {
     "name": "stdout",
     "output_type": "stream",
     "text": [
      "Table of number: 12\n",
      "12 * 1  = 12\n",
      "12 * 2  = 24\n",
      "12 * 3  = 36\n",
      "12 * 4  = 48\n",
      "12 * 5  = 60\n",
      "12 * 6  = 72\n",
      "12 * 7  = 84\n",
      "12 * 8  = 96\n",
      "12 * 9  = 108\n",
      "12 * 10  = 120\n"
     ]
    }
   ],
   "source": [
    "#Write a program to print the multiplication table of a given number using a while loop.\n",
    "\n",
    "num = int(input('Enter a number'))\n",
    "while(True):\n",
    "    print(f'Table of number: {num}')\n",
    "    for i in range(1,11):\n",
    "        print(f'{num} * {i}  =', num*i)\n",
    "    break"
   ]
  }
 ],
 "metadata": {
  "kernelspec": {
   "display_name": "base",
   "language": "python",
   "name": "python3"
  },
  "language_info": {
   "codemirror_mode": {
    "name": "ipython",
    "version": 3
   },
   "file_extension": ".py",
   "mimetype": "text/x-python",
   "name": "python",
   "nbconvert_exporter": "python",
   "pygments_lexer": "ipython3",
   "version": "3.10.10"
  },
  "orig_nbformat": 4
 },
 "nbformat": 4,
 "nbformat_minor": 2
}
