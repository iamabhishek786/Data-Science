{
 "cells": [
  {
   "cell_type": "code",
   "execution_count": 2,
   "metadata": {},
   "outputs": [
    {
     "name": "stdout",
     "output_type": "stream",
     "text": [
      "this is a string\n",
      "this is another string\n",
      "this is a string with multiple               \n",
      "lines which can be written\n",
      "b'this is a byte string'\n",
      "this is a unicode string\n",
      "this is a raw string\n"
     ]
    }
   ],
   "source": [
    "#STRING -  Create, indexing, slicing, methods\n",
    "\n",
    "\n",
    "a = 'this is a string'  # Enclosed within single quotes\n",
    "b = \"this is another string\"    # Enclosed within double quotes\n",
    "c = '''this is a string with multiple               \n",
    "lines which can be written'''   # Enclosed within single triple quotes\n",
    "d = b'this is a byte string'    # byte string\n",
    "e = u'this is a unicode string' # unicode string\n",
    "f = r'this is a raw string' # raw string\n",
    "\n",
    "print(a)\n",
    "print(b)\n",
    "print(c)\n",
    "print(d)\n",
    "print(e)\n",
    "print(f)"
   ]
  },
  {
   "cell_type": "code",
   "execution_count": 3,
   "metadata": {},
   "outputs": [
    {
     "name": "stdout",
     "output_type": "stream",
     "text": [
      "C:\\Users\\abhis\\Downloads\\Digipodium.DSWP\n"
     ]
    }
   ],
   "source": [
    "path= r'C:\\Users\\abhis\\Downloads\\Digipodium.DSWP'\n",
    "print(path)"
   ]
  },
  {
   "cell_type": "code",
   "execution_count": 5,
   "metadata": {},
   "outputs": [
    {
     "name": "stdout",
     "output_type": "stream",
     "text": [
      "10\n"
     ]
    }
   ],
   "source": [
    "x=10\n",
    "x=str(x) # converted to string\n",
    "print(x)"
   ]
  }
 ],
 "metadata": {
  "kernelspec": {
   "display_name": "base",
   "language": "python",
   "name": "python3"
  },
  "language_info": {
   "codemirror_mode": {
    "name": "ipython",
    "version": 3
   },
   "file_extension": ".py",
   "mimetype": "text/x-python",
   "name": "python",
   "nbconvert_exporter": "python",
   "pygments_lexer": "ipython3",
   "version": "3.10.10"
  },
  "orig_nbformat": 4
 },
 "nbformat": 4,
 "nbformat_minor": 2
}
