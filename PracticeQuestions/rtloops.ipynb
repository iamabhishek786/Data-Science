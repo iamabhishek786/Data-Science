{
 "cells": [
  {
   "cell_type": "code",
   "execution_count": 1,
   "metadata": {},
   "outputs": [
    {
     "name": "stdout",
     "output_type": "stream",
     "text": [
      "0,1,2,3,4,5,6,7,8,9,10,"
     ]
    }
   ],
   "source": [
    "# Ques.1 Write a program to print numbers from 1 to 10 using a for loop.\n",
    "\n",
    "for i in range(0,11):\n",
    "    print(i, end=',')"
   ]
  },
  {
   "cell_type": "code",
   "execution_count": 4,
   "metadata": {},
   "outputs": [
    {
     "name": "stdout",
     "output_type": "stream",
     "text": [
      "Table of number - 12\n",
      "12 * 1 = 12\n",
      "12 * 2 = 24\n",
      "12 * 3 = 36\n",
      "12 * 4 = 48\n",
      "12 * 5 = 60\n",
      "12 * 6 = 72\n",
      "12 * 7 = 84\n",
      "12 * 8 = 96\n",
      "12 * 9 = 108\n",
      "12 * 10 = 120\n",
      "12 * 11 = 132\n",
      "12 * 12 = 144\n",
      "12 * 13 = 156\n",
      "12 * 14 = 168\n",
      "12 * 15 = 180\n"
     ]
    }
   ],
   "source": [
    "# Ques 2. Write a program to print the multiplication table of a given number using a while loop.\n",
    "\n",
    "''' 1. Naive Approach\n",
    "\n",
    "num = int(input('Enter a number'))\n",
    "while(True):\n",
    "    print(f'Table of number: {num}')\n",
    "    for i in range(1,11):\n",
    "        print(f'{num} * {i}  =', num*i)\n",
    "    break '''\n",
    "\n",
    "\n",
    "\n",
    "\n",
    "# 2. Better Approach\n",
    "\n",
    "num = int(input('Enter a number'))\n",
    "limit = int(input('Enter your limit'))\n",
    "lv=1    # loopvariable\n",
    "print(f'Table of number - {num}')\n",
    "while(lv<=limit):\n",
    "    print(f'{num} * {lv} =', num*lv)\n",
    "    lv+=1\n"
   ]
  },
  {
   "cell_type": "code",
   "execution_count": 5,
   "metadata": {},
   "outputs": [
    {
     "name": "stdout",
     "output_type": "stream",
     "text": [
      "Sum of Even numbers =  2550\n"
     ]
    }
   ],
   "source": [
    "# Ques 3. Write a program to find the sum of all even numbers between 1 and 100 using a for loop.\n",
    "\n",
    "sum=0\n",
    "for i in range(1,101):\n",
    "    if(i%2==0):\n",
    "        sum=sum+i\n",
    "print(f'Sum of Even numbers = ', sum)"
   ]
  },
  {
   "cell_type": "code",
   "execution_count": 16,
   "metadata": {},
   "outputs": [
    {
     "name": "stdout",
     "output_type": "stream",
     "text": [
      "Prime Number - 13\n"
     ]
    }
   ],
   "source": [
    "# Ques 4. Write a program to check if a given number is prime or not using a while loop.\n",
    "\n",
    "num = int(input('Enter a number'))\n",
    "lim=1 \n",
    "c=0\n",
    "while(lim<=num):\n",
    "    if(num%lim==0):\n",
    "        c=c+1\n",
    "    lim+=1\n",
    "if(c==2):\n",
    "    print(f'Prime Number - {num}')\n",
    "else:\n",
    "    print(f'Not a Prime Number - {num}')    "
   ]
  },
  {
   "cell_type": "code",
   "execution_count": 17,
   "metadata": {},
   "outputs": [
    {
     "name": "stdout",
     "output_type": "stream",
     "text": [
      "Factorial of 5 =  120\n"
     ]
    }
   ],
   "source": [
    "# Ques 5. Write a program to calculate the factorial of a number using a for loop.\n",
    "\n",
    "num=int(input('Enter a number'))\n",
    "fact=1\n",
    "for i in range(1,num+1):\n",
    "    fact*=i\n",
    "print(f'Factorial of {num} = ', fact)"
   ]
  },
  {
   "cell_type": "code",
   "execution_count": 27,
   "metadata": {},
   "outputs": [
    {
     "name": "stdout",
     "output_type": "stream",
     "text": [
      "0 1 2 3 5 8 13 21 34 55 89 "
     ]
    }
   ],
   "source": [
    "# Ques 6. Write a program to print the Fibonacci series up to a given limit using a while loop.\n",
    "\n",
    "lim = int(input('Enter number of terms to be printed of a fibonacci series - '))\n",
    "i = 0\n",
    "a = 0\n",
    "b = 1 \n",
    "sum=0\n",
    "print('0 ',end='')\n",
    "while(i<lim):\n",
    "    sum = a+b\n",
    "    print(sum, end=' ')\n",
    "    a=b\n",
    "    b=sum\n",
    "    i+=1\n",
    "    "
   ]
  },
  {
   "cell_type": "code",
   "execution_count": 2,
   "metadata": {},
   "outputs": [
    {
     "name": "stdout",
     "output_type": "stream",
     "text": [
      "Largest element in an array is = 97\n"
     ]
    }
   ],
   "source": [
    "# Ques 7. Write a program to find the largest element in an array using a for loop.\n",
    "\n",
    "arr = [2,56,8,23,89,45,12,51,38,44,97,20,12,71]\n",
    "l=0\n",
    "for i in arr:\n",
    "    if(i>l):\n",
    "        l=i\n",
    "print(f'Largest element in an array is = {l}')"
   ]
  },
  {
   "cell_type": "code",
   "execution_count": 9,
   "metadata": {},
   "outputs": [
    {
     "name": "stdout",
     "output_type": "stream",
     "text": [
      "Reverse String -\n",
      "kehsihba"
     ]
    }
   ],
   "source": [
    "# Ques 8. Write a program to reverse a given string using a while loop.\n",
    "\n",
    "str = input('Enter a string')\n",
    "index=0\n",
    "rev=-1\n",
    "print(f'Reverse String -')\n",
    "while(index<len(str)):\n",
    "    print(str[rev],end='')\n",
    "    rev-=1\n",
    "    index+=1\n"
   ]
  },
  {
   "cell_type": "code",
   "execution_count": 22,
   "metadata": {},
   "outputs": [
    {
     "name": "stdout",
     "output_type": "stream",
     "text": [
      "A->65\n",
      "B->66\n",
      "C->67\n",
      "D->68\n",
      "E->69\n",
      "F->70\n",
      "G->71\n",
      "H->72\n",
      "I->73\n",
      "J->74\n",
      "K->75\n",
      "L->76\n",
      "M->77\n",
      "N->78\n",
      "O->79\n",
      "P->80\n",
      "Q->81\n",
      "R->82\n",
      "S->83\n",
      "T->84\n",
      "U->85\n",
      "V->86\n",
      "W->87\n",
      "X->88\n",
      "Y->89\n",
      "Z->90\n"
     ]
    }
   ],
   "source": [
    "# Ques 9. Write a program to print the ASCII values of all uppercase letters using a for loop.\n",
    "\n",
    "for i in range(65,91):\n",
    "    print(chr(i), end='->')\n",
    "    alpha = chr(i)\n",
    "    print(ord(alpha))"
   ]
  },
  {
   "cell_type": "code",
   "execution_count": null,
   "metadata": {},
   "outputs": [],
   "source": [
    "# Ques 10. Write a program to check if a given string is a palindrome using a while loop."
   ]
  },
  {
   "cell_type": "code",
   "execution_count": null,
   "metadata": {},
   "outputs": [],
   "source": [
    "# Ques 11. Write a program to calculate the average of a list of numbers using a for loop."
   ]
  },
  {
   "cell_type": "code",
   "execution_count": null,
   "metadata": {},
   "outputs": [],
   "source": [
    "# Ques 12. Write a program to find the smallest element in an array using a while loop."
   ]
  }
 ],
 "metadata": {
  "kernelspec": {
   "display_name": "base",
   "language": "python",
   "name": "python3"
  },
  "language_info": {
   "codemirror_mode": {
    "name": "ipython",
    "version": 3
   },
   "file_extension": ".py",
   "mimetype": "text/x-python",
   "name": "python",
   "nbconvert_exporter": "python",
   "pygments_lexer": "ipython3",
   "version": "3.10.10"
  },
  "orig_nbformat": 4
 },
 "nbformat": 4,
 "nbformat_minor": 2
}
